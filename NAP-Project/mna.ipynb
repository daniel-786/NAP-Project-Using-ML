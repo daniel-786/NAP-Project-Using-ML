{
 "cells": [
  {
   "cell_type": "code",
   "execution_count": 124,
   "metadata": {},
   "outputs": [],
   "source": [
    "import pandas as pd\n",
    "import seaborn as sns\n",
    "import matplotlib.pyplot as plt\n",
    "import numpy as np\n",
    "import warnings\n",
    "warnings.filterwarnings('ignore')\n",
    "import plotly.express as px"
   ]
  },
  {
   "cell_type": "code",
   "execution_count": 125,
   "metadata": {},
   "outputs": [],
   "source": [
    "df = pd.read_excel('D:/AllZone/NAP-Project/dataset/Pakistan National Assembly Attendance 2018-2022.xlsx')"
   ]
  },
  {
   "cell_type": "code",
   "execution_count": 126,
   "metadata": {},
   "outputs": [
    {
     "data": {
      "text/html": [
       "<div>\n",
       "<style scoped>\n",
       "    .dataframe tbody tr th:only-of-type {\n",
       "        vertical-align: middle;\n",
       "    }\n",
       "\n",
       "    .dataframe tbody tr th {\n",
       "        vertical-align: top;\n",
       "    }\n",
       "\n",
       "    .dataframe thead th {\n",
       "        text-align: right;\n",
       "    }\n",
       "</style>\n",
       "<table border=\"1\" class=\"dataframe\">\n",
       "  <thead>\n",
       "    <tr style=\"text-align: right;\">\n",
       "      <th></th>\n",
       "      <th>Unnamed: 0</th>\n",
       "      <th>Name</th>\n",
       "      <th>Date</th>\n",
       "      <th>Province</th>\n",
       "      <th>Constituency</th>\n",
       "      <th>Party</th>\n",
       "      <th>Oath Taking Date</th>\n",
       "      <th>City</th>\n",
       "    </tr>\n",
       "  </thead>\n",
       "  <tbody>\n",
       "    <tr>\n",
       "      <th>0</th>\n",
       "      <td>0</td>\n",
       "      <td>ibadullah khan</td>\n",
       "      <td>Sunday, 10th April, 2022</td>\n",
       "      <td>Khyber Pukhtunkhwa</td>\n",
       "      <td>NA-10</td>\n",
       "      <td>PML-N</td>\n",
       "      <td>2018-08-13</td>\n",
       "      <td>Shangla</td>\n",
       "    </tr>\n",
       "    <tr>\n",
       "      <th>1</th>\n",
       "      <td>1</td>\n",
       "      <td>afreen khan</td>\n",
       "      <td>Sunday, 10th April, 2022</td>\n",
       "      <td>Khyber Pukhtunkhwa</td>\n",
       "      <td>NA-11</td>\n",
       "      <td>MMAP</td>\n",
       "      <td>2018-08-13</td>\n",
       "      <td>Kohistan</td>\n",
       "    </tr>\n",
       "    <tr>\n",
       "      <th>2</th>\n",
       "      <td>2</td>\n",
       "      <td>muhammad sajjad</td>\n",
       "      <td>Sunday, 10th April, 2022</td>\n",
       "      <td>Khyber Pukhtunkhwa</td>\n",
       "      <td>NA-14</td>\n",
       "      <td>PML-N</td>\n",
       "      <td>2018-08-13</td>\n",
       "      <td>Mansehra</td>\n",
       "    </tr>\n",
       "    <tr>\n",
       "      <th>3</th>\n",
       "      <td>3</td>\n",
       "      <td>murtaza javed abbasi</td>\n",
       "      <td>Sunday, 10th April, 2022</td>\n",
       "      <td>Khyber Pukhtunkhwa</td>\n",
       "      <td>NA-15</td>\n",
       "      <td>PML-N</td>\n",
       "      <td>2018-08-13</td>\n",
       "      <td>Abbottabad</td>\n",
       "    </tr>\n",
       "    <tr>\n",
       "      <th>4</th>\n",
       "      <td>4</td>\n",
       "      <td>amir haider azam khan</td>\n",
       "      <td>Sunday, 10th April, 2022</td>\n",
       "      <td>Khyber Pukhtunkhwa</td>\n",
       "      <td>NA-21</td>\n",
       "      <td>ANP</td>\n",
       "      <td>2018-08-13</td>\n",
       "      <td>Mardan</td>\n",
       "    </tr>\n",
       "  </tbody>\n",
       "</table>\n",
       "</div>"
      ],
      "text/plain": [
       "   Unnamed: 0                   Name                      Date  \\\n",
       "0           0         ibadullah khan  Sunday, 10th April, 2022   \n",
       "1           1            afreen khan  Sunday, 10th April, 2022   \n",
       "2           2        muhammad sajjad  Sunday, 10th April, 2022   \n",
       "3           3   murtaza javed abbasi  Sunday, 10th April, 2022   \n",
       "4           4  amir haider azam khan  Sunday, 10th April, 2022   \n",
       "\n",
       "             Province Constituency  Party Oath Taking Date        City  \n",
       "0  Khyber Pukhtunkhwa        NA-10  PML-N       2018-08-13     Shangla  \n",
       "1  Khyber Pukhtunkhwa        NA-11   MMAP       2018-08-13    Kohistan  \n",
       "2  Khyber Pukhtunkhwa        NA-14  PML-N       2018-08-13    Mansehra  \n",
       "3  Khyber Pukhtunkhwa        NA-15  PML-N       2018-08-13  Abbottabad  \n",
       "4  Khyber Pukhtunkhwa        NA-21    ANP       2018-08-13      Mardan  "
      ]
     },
     "execution_count": 126,
     "metadata": {},
     "output_type": "execute_result"
    }
   ],
   "source": [
    "df.head()"
   ]
  },
  {
   "cell_type": "markdown",
   "metadata": {},
   "source": [
    "We can drop the first column as it does not add any value.\n",
    "Now lets see the total values in each column"
   ]
  },
  {
   "cell_type": "code",
   "execution_count": 127,
   "metadata": {},
   "outputs": [],
   "source": [
    "df.drop(columns=df.columns[0], axis=1, inplace=True)"
   ]
  },
  {
   "cell_type": "code",
   "execution_count": 128,
   "metadata": {},
   "outputs": [
    {
     "name": "stdout",
     "output_type": "stream",
     "text": [
      "<class 'pandas.core.frame.DataFrame'>\n",
      "RangeIndex: 70406 entries, 0 to 70405\n",
      "Data columns (total 7 columns):\n",
      " #   Column            Non-Null Count  Dtype         \n",
      "---  ------            --------------  -----         \n",
      " 0   Name              70406 non-null  object        \n",
      " 1   Date              70406 non-null  object        \n",
      " 2   Province          70316 non-null  object        \n",
      " 3   Constituency      70316 non-null  object        \n",
      " 4   Party             70316 non-null  object        \n",
      " 5   Oath Taking Date  70316 non-null  datetime64[ns]\n",
      " 6   City              70316 non-null  object        \n",
      "dtypes: datetime64[ns](1), object(6)\n",
      "memory usage: 3.8+ MB\n"
     ]
    }
   ],
   "source": [
    "df.info()"
   ]
  },
  {
   "cell_type": "markdown",
   "metadata": {},
   "source": [
    "All columns except Name & Date having missing values, meaning that we have attendance for them but they were not present in the Member details data frame.\n",
    "Now lets find these members."
   ]
  },
  {
   "cell_type": "code",
   "execution_count": 129,
   "metadata": {},
   "outputs": [
    {
     "data": {
      "text/plain": [
       "array(['nosheen iftikhar', 'shakila khalid chaudhry',\n",
       "       'arif-ur-rehman alvi'], dtype=object)"
      ]
     },
     "execution_count": 129,
     "metadata": {},
     "output_type": "execute_result"
    }
   ],
   "source": [
    "Members_missing_info = df[df.Province.isna()].Name.unique()\n",
    "Members_missing_info"
   ]
  },
  {
   "cell_type": "markdown",
   "metadata": {},
   "source": [
    "These 3 members are not present in the Member details data frame.\n",
    "Googling them tells that Nosheen Iftikhar took oath on 2021. \n",
    "Whereas other 2 members info is not updated on the website for 2018. \n",
    "We can drop these members as they might create noise in the stats. "
   ]
  },
  {
   "cell_type": "code",
   "execution_count": 130,
   "metadata": {},
   "outputs": [],
   "source": [
    "df = df[~df.Name.isin(Members_missing_info)]"
   ]
  },
  {
   "cell_type": "markdown",
   "metadata": {},
   "source": [
    "Also the Date column type has to be changed to date type."
   ]
  },
  {
   "cell_type": "code",
   "execution_count": 131,
   "metadata": {},
   "outputs": [
    {
     "name": "stdout",
     "output_type": "stream",
     "text": [
      "<class 'pandas.core.frame.DataFrame'>\n",
      "Index: 70316 entries, 0 to 70405\n",
      "Data columns (total 7 columns):\n",
      " #   Column            Non-Null Count  Dtype         \n",
      "---  ------            --------------  -----         \n",
      " 0   Name              70316 non-null  object        \n",
      " 1   Date              56075 non-null  datetime64[ns]\n",
      " 2   Province          70316 non-null  object        \n",
      " 3   Constituency      70316 non-null  object        \n",
      " 4   Party             70316 non-null  object        \n",
      " 5   Oath Taking Date  70316 non-null  datetime64[ns]\n",
      " 6   City              70316 non-null  object        \n",
      "dtypes: datetime64[ns](2), object(5)\n",
      "memory usage: 4.3+ MB\n"
     ]
    }
   ],
   "source": [
    "df = df.astype(str)\n",
    "df['Date'] = pd.to_datetime(df['Date'], errors='coerce')\n",
    "df['Oath Taking Date'] = pd.to_datetime(df['Oath Taking Date'], errors='coerce')\n",
    "df.info()"
   ]
  },
  {
   "cell_type": "code",
   "execution_count": 132,
   "metadata": {},
   "outputs": [],
   "source": [
    "df = df.apply(lambda x: x.str.strip() if x.dtype == 'object' else x)"
   ]
  },
  {
   "cell_type": "markdown",
   "metadata": {},
   "source": [
    "Data is ready for analysis"
   ]
  },
  {
   "cell_type": "code",
   "execution_count": 133,
   "metadata": {},
   "outputs": [
    {
     "data": {
      "text/html": [
       "<div>\n",
       "<style scoped>\n",
       "    .dataframe tbody tr th:only-of-type {\n",
       "        vertical-align: middle;\n",
       "    }\n",
       "\n",
       "    .dataframe tbody tr th {\n",
       "        vertical-align: top;\n",
       "    }\n",
       "\n",
       "    .dataframe thead th {\n",
       "        text-align: right;\n",
       "    }\n",
       "</style>\n",
       "<table border=\"1\" class=\"dataframe\">\n",
       "  <thead>\n",
       "    <tr style=\"text-align: right;\">\n",
       "      <th></th>\n",
       "      <th>Name</th>\n",
       "      <th>Date</th>\n",
       "      <th>Province</th>\n",
       "      <th>Constituency</th>\n",
       "      <th>Party</th>\n",
       "      <th>Oath Taking Date</th>\n",
       "      <th>City</th>\n",
       "    </tr>\n",
       "  </thead>\n",
       "  <tbody>\n",
       "    <tr>\n",
       "      <th>0</th>\n",
       "      <td>ibadullah khan</td>\n",
       "      <td>2022-04-10</td>\n",
       "      <td>Khyber Pukhtunkhwa</td>\n",
       "      <td>NA-10</td>\n",
       "      <td>PML-N</td>\n",
       "      <td>2018-08-13</td>\n",
       "      <td>Shangla</td>\n",
       "    </tr>\n",
       "    <tr>\n",
       "      <th>1</th>\n",
       "      <td>afreen khan</td>\n",
       "      <td>2022-04-10</td>\n",
       "      <td>Khyber Pukhtunkhwa</td>\n",
       "      <td>NA-11</td>\n",
       "      <td>MMAP</td>\n",
       "      <td>2018-08-13</td>\n",
       "      <td>Kohistan</td>\n",
       "    </tr>\n",
       "    <tr>\n",
       "      <th>2</th>\n",
       "      <td>muhammad sajjad</td>\n",
       "      <td>2022-04-10</td>\n",
       "      <td>Khyber Pukhtunkhwa</td>\n",
       "      <td>NA-14</td>\n",
       "      <td>PML-N</td>\n",
       "      <td>2018-08-13</td>\n",
       "      <td>Mansehra</td>\n",
       "    </tr>\n",
       "    <tr>\n",
       "      <th>3</th>\n",
       "      <td>murtaza javed abbasi</td>\n",
       "      <td>2022-04-10</td>\n",
       "      <td>Khyber Pukhtunkhwa</td>\n",
       "      <td>NA-15</td>\n",
       "      <td>PML-N</td>\n",
       "      <td>2018-08-13</td>\n",
       "      <td>Abbottabad</td>\n",
       "    </tr>\n",
       "    <tr>\n",
       "      <th>4</th>\n",
       "      <td>amir haider azam khan</td>\n",
       "      <td>2022-04-10</td>\n",
       "      <td>Khyber Pukhtunkhwa</td>\n",
       "      <td>NA-21</td>\n",
       "      <td>ANP</td>\n",
       "      <td>2018-08-13</td>\n",
       "      <td>Mardan</td>\n",
       "    </tr>\n",
       "    <tr>\n",
       "      <th>...</th>\n",
       "      <td>...</td>\n",
       "      <td>...</td>\n",
       "      <td>...</td>\n",
       "      <td>...</td>\n",
       "      <td>...</td>\n",
       "      <td>...</td>\n",
       "      <td>...</td>\n",
       "    </tr>\n",
       "    <tr>\n",
       "      <th>70401</th>\n",
       "      <td>jai parkash</td>\n",
       "      <td>2020-02-10</td>\n",
       "      <td>Reserved for Minorities</td>\n",
       "      <td>Reserved for Minorities</td>\n",
       "      <td>PTI</td>\n",
       "      <td>2018-08-13</td>\n",
       "      <td>Reserved Seat</td>\n",
       "    </tr>\n",
       "    <tr>\n",
       "      <th>70402</th>\n",
       "      <td>jamshed thomas</td>\n",
       "      <td>2020-02-10</td>\n",
       "      <td>Reserved for Minorities</td>\n",
       "      <td>Reserved for Minorities</td>\n",
       "      <td>PTI</td>\n",
       "      <td>2018-08-13</td>\n",
       "      <td>Reserved Seat</td>\n",
       "    </tr>\n",
       "    <tr>\n",
       "      <th>70403</th>\n",
       "      <td>darshan</td>\n",
       "      <td>2020-02-10</td>\n",
       "      <td>Reserved for Minorities</td>\n",
       "      <td>Reserved for Minorities</td>\n",
       "      <td>PML-N</td>\n",
       "      <td>2018-08-13</td>\n",
       "      <td>Reserved Seat</td>\n",
       "    </tr>\n",
       "    <tr>\n",
       "      <th>70404</th>\n",
       "      <td>kesoo mal kheeal das</td>\n",
       "      <td>2020-02-10</td>\n",
       "      <td>Reserved for Minorities</td>\n",
       "      <td>Reserved for Minorities</td>\n",
       "      <td>PML-N</td>\n",
       "      <td>2018-08-13</td>\n",
       "      <td>Reserved Seat</td>\n",
       "    </tr>\n",
       "    <tr>\n",
       "      <th>70405</th>\n",
       "      <td>naveed aamir jeeva</td>\n",
       "      <td>2020-02-10</td>\n",
       "      <td>Reserved for Minorities</td>\n",
       "      <td>Reserved for Minorities</td>\n",
       "      <td>PPPP</td>\n",
       "      <td>2018-08-13</td>\n",
       "      <td>Reserved Seat</td>\n",
       "    </tr>\n",
       "  </tbody>\n",
       "</table>\n",
       "<p>70316 rows × 7 columns</p>\n",
       "</div>"
      ],
      "text/plain": [
       "                        Name       Date                 Province  \\\n",
       "0             ibadullah khan 2022-04-10       Khyber Pukhtunkhwa   \n",
       "1                afreen khan 2022-04-10       Khyber Pukhtunkhwa   \n",
       "2            muhammad sajjad 2022-04-10       Khyber Pukhtunkhwa   \n",
       "3       murtaza javed abbasi 2022-04-10       Khyber Pukhtunkhwa   \n",
       "4      amir haider azam khan 2022-04-10       Khyber Pukhtunkhwa   \n",
       "...                      ...        ...                      ...   \n",
       "70401            jai parkash 2020-02-10  Reserved for Minorities   \n",
       "70402         jamshed thomas 2020-02-10  Reserved for Minorities   \n",
       "70403                darshan 2020-02-10  Reserved for Minorities   \n",
       "70404   kesoo mal kheeal das 2020-02-10  Reserved for Minorities   \n",
       "70405     naveed aamir jeeva 2020-02-10  Reserved for Minorities   \n",
       "\n",
       "                  Constituency  Party Oath Taking Date           City  \n",
       "0                        NA-10  PML-N       2018-08-13        Shangla  \n",
       "1                        NA-11   MMAP       2018-08-13       Kohistan  \n",
       "2                        NA-14  PML-N       2018-08-13       Mansehra  \n",
       "3                        NA-15  PML-N       2018-08-13     Abbottabad  \n",
       "4                        NA-21    ANP       2018-08-13         Mardan  \n",
       "...                        ...    ...              ...            ...  \n",
       "70401  Reserved for Minorities    PTI       2018-08-13  Reserved Seat  \n",
       "70402  Reserved for Minorities    PTI       2018-08-13  Reserved Seat  \n",
       "70403  Reserved for Minorities  PML-N       2018-08-13  Reserved Seat  \n",
       "70404  Reserved for Minorities  PML-N       2018-08-13  Reserved Seat  \n",
       "70405  Reserved for Minorities   PPPP       2018-08-13  Reserved Seat  \n",
       "\n",
       "[70316 rows x 7 columns]"
      ]
     },
     "execution_count": 133,
     "metadata": {},
     "output_type": "execute_result"
    }
   ],
   "source": [
    "df"
   ]
  },
  {
   "cell_type": "markdown",
   "metadata": {},
   "source": [
    "Adding a new column to determine the constituency type i.e general, minority & women."
   ]
  },
  {
   "cell_type": "code",
   "execution_count": 134,
   "metadata": {},
   "outputs": [],
   "source": [
    "def f(row):\n",
    "    if 'Minorities' in row['Constituency']:\n",
    "        val = 'Minorities'\n",
    "    elif 'Women' in row['Constituency']:\n",
    "        val = 'Women'\n",
    "    else:\n",
    "        val = 'General'\n",
    "    return val\n",
    "\n",
    "df['Constituency Type'] = df.apply(f, axis=1)"
   ]
  },
  {
   "cell_type": "code",
   "execution_count": 135,
   "metadata": {},
   "outputs": [
    {
     "data": {
      "text/html": [
       "<div>\n",
       "<style scoped>\n",
       "    .dataframe tbody tr th:only-of-type {\n",
       "        vertical-align: middle;\n",
       "    }\n",
       "\n",
       "    .dataframe tbody tr th {\n",
       "        vertical-align: top;\n",
       "    }\n",
       "\n",
       "    .dataframe thead th {\n",
       "        text-align: right;\n",
       "    }\n",
       "</style>\n",
       "<table border=\"1\" class=\"dataframe\">\n",
       "  <thead>\n",
       "    <tr style=\"text-align: right;\">\n",
       "      <th></th>\n",
       "      <th>Name</th>\n",
       "      <th>Date</th>\n",
       "      <th>Province</th>\n",
       "      <th>Constituency</th>\n",
       "      <th>Party</th>\n",
       "      <th>Oath Taking Date</th>\n",
       "      <th>City</th>\n",
       "      <th>Constituency Type</th>\n",
       "    </tr>\n",
       "  </thead>\n",
       "  <tbody>\n",
       "    <tr>\n",
       "      <th>0</th>\n",
       "      <td>ibadullah khan</td>\n",
       "      <td>2022-04-10</td>\n",
       "      <td>Khyber Pukhtunkhwa</td>\n",
       "      <td>NA-10</td>\n",
       "      <td>PML-N</td>\n",
       "      <td>2018-08-13</td>\n",
       "      <td>Shangla</td>\n",
       "      <td>General</td>\n",
       "    </tr>\n",
       "    <tr>\n",
       "      <th>1</th>\n",
       "      <td>afreen khan</td>\n",
       "      <td>2022-04-10</td>\n",
       "      <td>Khyber Pukhtunkhwa</td>\n",
       "      <td>NA-11</td>\n",
       "      <td>MMAP</td>\n",
       "      <td>2018-08-13</td>\n",
       "      <td>Kohistan</td>\n",
       "      <td>General</td>\n",
       "    </tr>\n",
       "    <tr>\n",
       "      <th>2</th>\n",
       "      <td>muhammad sajjad</td>\n",
       "      <td>2022-04-10</td>\n",
       "      <td>Khyber Pukhtunkhwa</td>\n",
       "      <td>NA-14</td>\n",
       "      <td>PML-N</td>\n",
       "      <td>2018-08-13</td>\n",
       "      <td>Mansehra</td>\n",
       "      <td>General</td>\n",
       "    </tr>\n",
       "    <tr>\n",
       "      <th>3</th>\n",
       "      <td>murtaza javed abbasi</td>\n",
       "      <td>2022-04-10</td>\n",
       "      <td>Khyber Pukhtunkhwa</td>\n",
       "      <td>NA-15</td>\n",
       "      <td>PML-N</td>\n",
       "      <td>2018-08-13</td>\n",
       "      <td>Abbottabad</td>\n",
       "      <td>General</td>\n",
       "    </tr>\n",
       "    <tr>\n",
       "      <th>4</th>\n",
       "      <td>amir haider azam khan</td>\n",
       "      <td>2022-04-10</td>\n",
       "      <td>Khyber Pukhtunkhwa</td>\n",
       "      <td>NA-21</td>\n",
       "      <td>ANP</td>\n",
       "      <td>2018-08-13</td>\n",
       "      <td>Mardan</td>\n",
       "      <td>General</td>\n",
       "    </tr>\n",
       "    <tr>\n",
       "      <th>...</th>\n",
       "      <td>...</td>\n",
       "      <td>...</td>\n",
       "      <td>...</td>\n",
       "      <td>...</td>\n",
       "      <td>...</td>\n",
       "      <td>...</td>\n",
       "      <td>...</td>\n",
       "      <td>...</td>\n",
       "    </tr>\n",
       "    <tr>\n",
       "      <th>70401</th>\n",
       "      <td>jai parkash</td>\n",
       "      <td>2020-02-10</td>\n",
       "      <td>Reserved for Minorities</td>\n",
       "      <td>Reserved for Minorities</td>\n",
       "      <td>PTI</td>\n",
       "      <td>2018-08-13</td>\n",
       "      <td>Reserved Seat</td>\n",
       "      <td>Minorities</td>\n",
       "    </tr>\n",
       "    <tr>\n",
       "      <th>70402</th>\n",
       "      <td>jamshed thomas</td>\n",
       "      <td>2020-02-10</td>\n",
       "      <td>Reserved for Minorities</td>\n",
       "      <td>Reserved for Minorities</td>\n",
       "      <td>PTI</td>\n",
       "      <td>2018-08-13</td>\n",
       "      <td>Reserved Seat</td>\n",
       "      <td>Minorities</td>\n",
       "    </tr>\n",
       "    <tr>\n",
       "      <th>70403</th>\n",
       "      <td>darshan</td>\n",
       "      <td>2020-02-10</td>\n",
       "      <td>Reserved for Minorities</td>\n",
       "      <td>Reserved for Minorities</td>\n",
       "      <td>PML-N</td>\n",
       "      <td>2018-08-13</td>\n",
       "      <td>Reserved Seat</td>\n",
       "      <td>Minorities</td>\n",
       "    </tr>\n",
       "    <tr>\n",
       "      <th>70404</th>\n",
       "      <td>kesoo mal kheeal das</td>\n",
       "      <td>2020-02-10</td>\n",
       "      <td>Reserved for Minorities</td>\n",
       "      <td>Reserved for Minorities</td>\n",
       "      <td>PML-N</td>\n",
       "      <td>2018-08-13</td>\n",
       "      <td>Reserved Seat</td>\n",
       "      <td>Minorities</td>\n",
       "    </tr>\n",
       "    <tr>\n",
       "      <th>70405</th>\n",
       "      <td>naveed aamir jeeva</td>\n",
       "      <td>2020-02-10</td>\n",
       "      <td>Reserved for Minorities</td>\n",
       "      <td>Reserved for Minorities</td>\n",
       "      <td>PPPP</td>\n",
       "      <td>2018-08-13</td>\n",
       "      <td>Reserved Seat</td>\n",
       "      <td>Minorities</td>\n",
       "    </tr>\n",
       "  </tbody>\n",
       "</table>\n",
       "<p>70316 rows × 8 columns</p>\n",
       "</div>"
      ],
      "text/plain": [
       "                        Name       Date                 Province  \\\n",
       "0             ibadullah khan 2022-04-10       Khyber Pukhtunkhwa   \n",
       "1                afreen khan 2022-04-10       Khyber Pukhtunkhwa   \n",
       "2            muhammad sajjad 2022-04-10       Khyber Pukhtunkhwa   \n",
       "3       murtaza javed abbasi 2022-04-10       Khyber Pukhtunkhwa   \n",
       "4      amir haider azam khan 2022-04-10       Khyber Pukhtunkhwa   \n",
       "...                      ...        ...                      ...   \n",
       "70401            jai parkash 2020-02-10  Reserved for Minorities   \n",
       "70402         jamshed thomas 2020-02-10  Reserved for Minorities   \n",
       "70403                darshan 2020-02-10  Reserved for Minorities   \n",
       "70404   kesoo mal kheeal das 2020-02-10  Reserved for Minorities   \n",
       "70405     naveed aamir jeeva 2020-02-10  Reserved for Minorities   \n",
       "\n",
       "                  Constituency  Party Oath Taking Date           City  \\\n",
       "0                        NA-10  PML-N       2018-08-13        Shangla   \n",
       "1                        NA-11   MMAP       2018-08-13       Kohistan   \n",
       "2                        NA-14  PML-N       2018-08-13       Mansehra   \n",
       "3                        NA-15  PML-N       2018-08-13     Abbottabad   \n",
       "4                        NA-21    ANP       2018-08-13         Mardan   \n",
       "...                        ...    ...              ...            ...   \n",
       "70401  Reserved for Minorities    PTI       2018-08-13  Reserved Seat   \n",
       "70402  Reserved for Minorities    PTI       2018-08-13  Reserved Seat   \n",
       "70403  Reserved for Minorities  PML-N       2018-08-13  Reserved Seat   \n",
       "70404  Reserved for Minorities  PML-N       2018-08-13  Reserved Seat   \n",
       "70405  Reserved for Minorities   PPPP       2018-08-13  Reserved Seat   \n",
       "\n",
       "      Constituency Type  \n",
       "0               General  \n",
       "1               General  \n",
       "2               General  \n",
       "3               General  \n",
       "4               General  \n",
       "...                 ...  \n",
       "70401        Minorities  \n",
       "70402        Minorities  \n",
       "70403        Minorities  \n",
       "70404        Minorities  \n",
       "70405        Minorities  \n",
       "\n",
       "[70316 rows x 8 columns]"
      ]
     },
     "execution_count": 135,
     "metadata": {},
     "output_type": "execute_result"
    }
   ],
   "source": [
    "df"
   ]
  },
  {
   "cell_type": "markdown",
   "metadata": {},
   "source": [
    "Province wise constituency type distribution"
   ]
  },
  {
   "cell_type": "code",
   "execution_count": 136,
   "metadata": {},
   "outputs": [
    {
     "data": {
      "text/plain": [
       "Province                 Constituency Type\n",
       "Balochistan              General               16\n",
       "                         Women                  4\n",
       "Federal                  General                3\n",
       "Khyber Pukhtunkhwa       General               52\n",
       "                         Women                  9\n",
       "Punjab                   General              142\n",
       "                         Women                 33\n",
       "Reserved for Minorities  Minorities            10\n",
       "Sindh                    General               63\n",
       "                         Women                 14\n",
       "Name: Name, dtype: int64"
      ]
     },
     "execution_count": 136,
     "metadata": {},
     "output_type": "execute_result"
    }
   ],
   "source": [
    "df1 = df.groupby(['Province','Constituency Type'])['Name'].nunique()\n",
    "df1"
   ]
  },
  {
   "cell_type": "markdown",
   "metadata": {},
   "source": [
    "Duplicate values"
   ]
  },
  {
   "cell_type": "markdown",
   "metadata": {},
   "source": [
    "Checking for duplicates as there should be one member per constituency who took oath. "
   ]
  },
  {
   "cell_type": "code",
   "execution_count": 137,
   "metadata": {},
   "outputs": [
    {
     "data": {
      "text/html": [
       "<div>\n",
       "<style scoped>\n",
       "    .dataframe tbody tr th:only-of-type {\n",
       "        vertical-align: middle;\n",
       "    }\n",
       "\n",
       "    .dataframe tbody tr th {\n",
       "        vertical-align: top;\n",
       "    }\n",
       "\n",
       "    .dataframe thead th {\n",
       "        text-align: right;\n",
       "    }\n",
       "</style>\n",
       "<table border=\"1\" class=\"dataframe\">\n",
       "  <thead>\n",
       "    <tr style=\"text-align: right;\">\n",
       "      <th></th>\n",
       "      <th>Name</th>\n",
       "      <th>Date</th>\n",
       "      <th>Province</th>\n",
       "      <th>Constituency</th>\n",
       "      <th>Party</th>\n",
       "      <th>Oath Taking Date</th>\n",
       "      <th>City</th>\n",
       "      <th>Constituency Type</th>\n",
       "    </tr>\n",
       "  </thead>\n",
       "  <tbody>\n",
       "    <tr>\n",
       "      <th>123</th>\n",
       "      <td>pir ameer ali shah jeelani</td>\n",
       "      <td>2022-04-10</td>\n",
       "      <td>Sindh</td>\n",
       "      <td>NA-221</td>\n",
       "      <td>PPPP</td>\n",
       "      <td>2021-02-26</td>\n",
       "      <td>Tharparkar</td>\n",
       "      <td>General</td>\n",
       "    </tr>\n",
       "    <tr>\n",
       "      <th>24482</th>\n",
       "      <td>pir noor muhammad shah jillani</td>\n",
       "      <td>2020-10-29</td>\n",
       "      <td>Sindh</td>\n",
       "      <td>NA-221</td>\n",
       "      <td>PPPP</td>\n",
       "      <td>2018-08-13</td>\n",
       "      <td>Tharparkar</td>\n",
       "      <td>General</td>\n",
       "    </tr>\n",
       "    <tr>\n",
       "      <th>141</th>\n",
       "      <td>qadir khan mandokhail</td>\n",
       "      <td>2022-04-10</td>\n",
       "      <td>Sindh</td>\n",
       "      <td>NA-249</td>\n",
       "      <td>PPPP</td>\n",
       "      <td>2021-05-17</td>\n",
       "      <td>Karachi West</td>\n",
       "      <td>General</td>\n",
       "    </tr>\n",
       "    <tr>\n",
       "      <th>22708</th>\n",
       "      <td>muhammad faisal vawda</td>\n",
       "      <td>2021-02-04</td>\n",
       "      <td>Sindh</td>\n",
       "      <td>NA-249</td>\n",
       "      <td>PTI</td>\n",
       "      <td>2018-08-13</td>\n",
       "      <td>Karachi West</td>\n",
       "      <td>General</td>\n",
       "    </tr>\n",
       "    <tr>\n",
       "      <th>236</th>\n",
       "      <td>fakhar zaman khan</td>\n",
       "      <td>2022-04-09</td>\n",
       "      <td>Khyber Pukhtunkhwa</td>\n",
       "      <td>NA-45</td>\n",
       "      <td>PTI</td>\n",
       "      <td>2021-01-03</td>\n",
       "      <td>Khyber Agency</td>\n",
       "      <td>General</td>\n",
       "    </tr>\n",
       "    <tr>\n",
       "      <th>35585</th>\n",
       "      <td>munir khan orakzai</td>\n",
       "      <td>2020-05-15</td>\n",
       "      <td>Khyber Pukhtunkhwa</td>\n",
       "      <td>NA-45</td>\n",
       "      <td>PTI</td>\n",
       "      <td>2018-08-13</td>\n",
       "      <td>Khyber Agency</td>\n",
       "      <td>General</td>\n",
       "    </tr>\n",
       "    <tr>\n",
       "      <th>602</th>\n",
       "      <td>aamir sultan cheema</td>\n",
       "      <td>NaT</td>\n",
       "      <td>Punjab</td>\n",
       "      <td>NA-91</td>\n",
       "      <td>PML-N</td>\n",
       "      <td>2019-02-20</td>\n",
       "      <td>Sargodha</td>\n",
       "      <td>General</td>\n",
       "    </tr>\n",
       "    <tr>\n",
       "      <th>6192</th>\n",
       "      <td>zulfiqar ali bhatti</td>\n",
       "      <td>NaT</td>\n",
       "      <td>Punjab</td>\n",
       "      <td>NA-91</td>\n",
       "      <td>PML-N</td>\n",
       "      <td>2018-08-13</td>\n",
       "      <td>Sargodha</td>\n",
       "      <td>General</td>\n",
       "    </tr>\n",
       "  </tbody>\n",
       "</table>\n",
       "</div>"
      ],
      "text/plain": [
       "                                 Name       Date            Province  \\\n",
       "123        pir ameer ali shah jeelani 2022-04-10               Sindh   \n",
       "24482  pir noor muhammad shah jillani 2020-10-29               Sindh   \n",
       "141             qadir khan mandokhail 2022-04-10               Sindh   \n",
       "22708           muhammad faisal vawda 2021-02-04               Sindh   \n",
       "236                 fakhar zaman khan 2022-04-09  Khyber Pukhtunkhwa   \n",
       "35585              munir khan orakzai 2020-05-15  Khyber Pukhtunkhwa   \n",
       "602               aamir sultan cheema        NaT              Punjab   \n",
       "6192              zulfiqar ali bhatti        NaT              Punjab   \n",
       "\n",
       "      Constituency  Party Oath Taking Date           City Constituency Type  \n",
       "123         NA-221   PPPP       2021-02-26     Tharparkar           General  \n",
       "24482       NA-221   PPPP       2018-08-13     Tharparkar           General  \n",
       "141         NA-249   PPPP       2021-05-17   Karachi West           General  \n",
       "22708       NA-249    PTI       2018-08-13   Karachi West           General  \n",
       "236          NA-45    PTI       2021-01-03  Khyber Agency           General  \n",
       "35585        NA-45    PTI       2018-08-13  Khyber Agency           General  \n",
       "602          NA-91  PML-N       2019-02-20       Sargodha           General  \n",
       "6192         NA-91  PML-N       2018-08-13       Sargodha           General  "
      ]
     },
     "execution_count": 137,
     "metadata": {},
     "output_type": "execute_result"
    }
   ],
   "source": [
    "df_duplicate_members = df[~df.duplicated(subset=['Constituency','Name','Oath Taking Date'])]\n",
    "df_duplicate_members = df_duplicate_members[df_duplicate_members['Constituency Type'] == 'General']\n",
    "df_duplicate_members = df_duplicate_members[df_duplicate_members['Constituency'].duplicated(keep=False)]\n",
    "df_duplicate_members.sort_values('Constituency')"
   ]
  },
  {
   "cell_type": "markdown",
   "metadata": {},
   "source": [
    "Listing distinct members per constituency"
   ]
  },
  {
   "cell_type": "code",
   "execution_count": 138,
   "metadata": {},
   "outputs": [
    {
     "data": {
      "text/html": [
       "<div>\n",
       "<style scoped>\n",
       "    .dataframe tbody tr th:only-of-type {\n",
       "        vertical-align: middle;\n",
       "    }\n",
       "\n",
       "    .dataframe tbody tr th {\n",
       "        vertical-align: top;\n",
       "    }\n",
       "\n",
       "    .dataframe thead th {\n",
       "        text-align: right;\n",
       "    }\n",
       "</style>\n",
       "<table border=\"1\" class=\"dataframe\">\n",
       "  <thead>\n",
       "    <tr style=\"text-align: right;\">\n",
       "      <th></th>\n",
       "      <th>Date</th>\n",
       "      <th>Province</th>\n",
       "      <th>Constituency</th>\n",
       "      <th>Party</th>\n",
       "      <th>Oath Taking Date</th>\n",
       "      <th>City</th>\n",
       "      <th>Constituency Type</th>\n",
       "    </tr>\n",
       "  </thead>\n",
       "  <tbody>\n",
       "    <tr>\n",
       "      <th>0</th>\n",
       "      <td>2022-04-10</td>\n",
       "      <td>Khyber Pukhtunkhwa</td>\n",
       "      <td>NA-10</td>\n",
       "      <td>PML-N</td>\n",
       "      <td>2018-08-13</td>\n",
       "      <td>Shangla</td>\n",
       "      <td>General</td>\n",
       "    </tr>\n",
       "    <tr>\n",
       "      <th>1</th>\n",
       "      <td>2022-04-10</td>\n",
       "      <td>Khyber Pukhtunkhwa</td>\n",
       "      <td>NA-11</td>\n",
       "      <td>MMAP</td>\n",
       "      <td>2018-08-13</td>\n",
       "      <td>Kohistan</td>\n",
       "      <td>General</td>\n",
       "    </tr>\n",
       "    <tr>\n",
       "      <th>2</th>\n",
       "      <td>2022-04-10</td>\n",
       "      <td>Khyber Pukhtunkhwa</td>\n",
       "      <td>NA-14</td>\n",
       "      <td>PML-N</td>\n",
       "      <td>2018-08-13</td>\n",
       "      <td>Mansehra</td>\n",
       "      <td>General</td>\n",
       "    </tr>\n",
       "    <tr>\n",
       "      <th>3</th>\n",
       "      <td>2022-04-10</td>\n",
       "      <td>Khyber Pukhtunkhwa</td>\n",
       "      <td>NA-15</td>\n",
       "      <td>PML-N</td>\n",
       "      <td>2018-08-13</td>\n",
       "      <td>Abbottabad</td>\n",
       "      <td>General</td>\n",
       "    </tr>\n",
       "    <tr>\n",
       "      <th>4</th>\n",
       "      <td>2022-04-10</td>\n",
       "      <td>Khyber Pukhtunkhwa</td>\n",
       "      <td>NA-21</td>\n",
       "      <td>ANP</td>\n",
       "      <td>2018-08-13</td>\n",
       "      <td>Mardan</td>\n",
       "      <td>General</td>\n",
       "    </tr>\n",
       "    <tr>\n",
       "      <th>...</th>\n",
       "      <td>...</td>\n",
       "      <td>...</td>\n",
       "      <td>...</td>\n",
       "      <td>...</td>\n",
       "      <td>...</td>\n",
       "      <td>...</td>\n",
       "      <td>...</td>\n",
       "    </tr>\n",
       "    <tr>\n",
       "      <th>8479</th>\n",
       "      <td>2021-09-29</td>\n",
       "      <td>Punjab</td>\n",
       "      <td>NA-133</td>\n",
       "      <td>PML-N</td>\n",
       "      <td>2018-08-13</td>\n",
       "      <td>Lahore</td>\n",
       "      <td>General</td>\n",
       "    </tr>\n",
       "    <tr>\n",
       "      <th>22708</th>\n",
       "      <td>2021-02-04</td>\n",
       "      <td>Sindh</td>\n",
       "      <td>NA-249</td>\n",
       "      <td>PTI</td>\n",
       "      <td>2018-08-13</td>\n",
       "      <td>Karachi West</td>\n",
       "      <td>General</td>\n",
       "    </tr>\n",
       "    <tr>\n",
       "      <th>24482</th>\n",
       "      <td>2020-10-29</td>\n",
       "      <td>Sindh</td>\n",
       "      <td>NA-221</td>\n",
       "      <td>PPPP</td>\n",
       "      <td>2018-08-13</td>\n",
       "      <td>Tharparkar</td>\n",
       "      <td>General</td>\n",
       "    </tr>\n",
       "    <tr>\n",
       "      <th>31561</th>\n",
       "      <td>2020-07-10</td>\n",
       "      <td>Punjab</td>\n",
       "      <td>NA-75</td>\n",
       "      <td>PML-N</td>\n",
       "      <td>2018-08-13</td>\n",
       "      <td>Sialkot</td>\n",
       "      <td>General</td>\n",
       "    </tr>\n",
       "    <tr>\n",
       "      <th>35585</th>\n",
       "      <td>2020-05-15</td>\n",
       "      <td>Khyber Pukhtunkhwa</td>\n",
       "      <td>NA-45</td>\n",
       "      <td>PTI</td>\n",
       "      <td>2018-08-13</td>\n",
       "      <td>Khyber Agency</td>\n",
       "      <td>General</td>\n",
       "    </tr>\n",
       "  </tbody>\n",
       "</table>\n",
       "<p>346 rows × 7 columns</p>\n",
       "</div>"
      ],
      "text/plain": [
       "            Date            Province Constituency  Party Oath Taking Date  \\\n",
       "0     2022-04-10  Khyber Pukhtunkhwa        NA-10  PML-N       2018-08-13   \n",
       "1     2022-04-10  Khyber Pukhtunkhwa        NA-11   MMAP       2018-08-13   \n",
       "2     2022-04-10  Khyber Pukhtunkhwa        NA-14  PML-N       2018-08-13   \n",
       "3     2022-04-10  Khyber Pukhtunkhwa        NA-15  PML-N       2018-08-13   \n",
       "4     2022-04-10  Khyber Pukhtunkhwa        NA-21    ANP       2018-08-13   \n",
       "...          ...                 ...          ...    ...              ...   \n",
       "8479  2021-09-29              Punjab       NA-133  PML-N       2018-08-13   \n",
       "22708 2021-02-04               Sindh       NA-249    PTI       2018-08-13   \n",
       "24482 2020-10-29               Sindh       NA-221   PPPP       2018-08-13   \n",
       "31561 2020-07-10              Punjab        NA-75  PML-N       2018-08-13   \n",
       "35585 2020-05-15  Khyber Pukhtunkhwa        NA-45    PTI       2018-08-13   \n",
       "\n",
       "                City Constituency Type  \n",
       "0            Shangla           General  \n",
       "1           Kohistan           General  \n",
       "2           Mansehra           General  \n",
       "3         Abbottabad           General  \n",
       "4             Mardan           General  \n",
       "...              ...               ...  \n",
       "8479          Lahore           General  \n",
       "22708   Karachi West           General  \n",
       "24482     Tharparkar           General  \n",
       "31561        Sialkot           General  \n",
       "35585  Khyber Agency           General  \n",
       "\n",
       "[346 rows x 7 columns]"
      ]
     },
     "execution_count": 138,
     "metadata": {},
     "output_type": "execute_result"
    }
   ],
   "source": [
    "df_distinct_members = df[~df.duplicated(subset=['Constituency','Name','Oath Taking Date'])]\n",
    "df_distinct_members.sort_values('Oath Taking Date').reset_index()\n",
    "df_distinct_members.drop(columns=df_distinct_members.columns[0], axis=1, inplace=True)\n",
    "df_distinct_members"
   ]
  },
  {
   "cell_type": "markdown",
   "metadata": {},
   "source": [
    "Lets check for constituencies with more than 1 member."
   ]
  },
  {
   "cell_type": "code",
   "execution_count": 139,
   "metadata": {},
   "outputs": [
    {
     "data": {
      "text/plain": [
       "Constituency\n",
       "NA-221    2\n",
       "NA-249    2\n",
       "NA-45     2\n",
       "NA-91     2\n",
       "NA-243    1\n",
       "         ..\n",
       "NA-48     1\n",
       "NA-49     1\n",
       "NA-50     1\n",
       "NA-51     1\n",
       "NA-56     1\n",
       "Name: count, Length: 272, dtype: int64"
      ]
     },
     "execution_count": 139,
     "metadata": {},
     "output_type": "execute_result"
    }
   ],
   "source": [
    "df_distinct_members[df['Constituency Type'] == 'General'].Constituency.value_counts()"
   ]
  },
  {
   "cell_type": "markdown",
   "metadata": {},
   "source": [
    "It shows that these Constituencies have more than one Member, which common. Now lets go through these Constituencies."
   ]
  },
  {
   "cell_type": "markdown",
   "metadata": {},
   "source": [
    "Lets dig down on these members."
   ]
  },
  {
   "cell_type": "code",
   "execution_count": 140,
   "metadata": {},
   "outputs": [
    {
     "data": {
      "text/html": [
       "<div>\n",
       "<style scoped>\n",
       "    .dataframe tbody tr th:only-of-type {\n",
       "        vertical-align: middle;\n",
       "    }\n",
       "\n",
       "    .dataframe tbody tr th {\n",
       "        vertical-align: top;\n",
       "    }\n",
       "\n",
       "    .dataframe thead th {\n",
       "        text-align: right;\n",
       "    }\n",
       "</style>\n",
       "<table border=\"1\" class=\"dataframe\">\n",
       "  <thead>\n",
       "    <tr style=\"text-align: right;\">\n",
       "      <th></th>\n",
       "      <th>Name</th>\n",
       "      <th>Date</th>\n",
       "      <th>Province</th>\n",
       "      <th>Constituency</th>\n",
       "      <th>Party</th>\n",
       "      <th>Oath Taking Date</th>\n",
       "      <th>City</th>\n",
       "      <th>Constituency Type</th>\n",
       "    </tr>\n",
       "  </thead>\n",
       "  <tbody>\n",
       "    <tr>\n",
       "      <th>123</th>\n",
       "      <td>pir ameer ali shah jeelani</td>\n",
       "      <td>2022-04-10</td>\n",
       "      <td>Sindh</td>\n",
       "      <td>NA-221</td>\n",
       "      <td>PPPP</td>\n",
       "      <td>2021-02-26</td>\n",
       "      <td>Tharparkar</td>\n",
       "      <td>General</td>\n",
       "    </tr>\n",
       "    <tr>\n",
       "      <th>141</th>\n",
       "      <td>qadir khan mandokhail</td>\n",
       "      <td>2022-04-10</td>\n",
       "      <td>Sindh</td>\n",
       "      <td>NA-249</td>\n",
       "      <td>PPPP</td>\n",
       "      <td>2021-05-17</td>\n",
       "      <td>Karachi West</td>\n",
       "      <td>General</td>\n",
       "    </tr>\n",
       "    <tr>\n",
       "      <th>236</th>\n",
       "      <td>fakhar zaman khan</td>\n",
       "      <td>2022-04-09</td>\n",
       "      <td>Khyber Pukhtunkhwa</td>\n",
       "      <td>NA-45</td>\n",
       "      <td>PTI</td>\n",
       "      <td>2021-01-03</td>\n",
       "      <td>Khyber Agency</td>\n",
       "      <td>General</td>\n",
       "    </tr>\n",
       "    <tr>\n",
       "      <th>404</th>\n",
       "      <td>pir ameer ali shah jeelani</td>\n",
       "      <td>2022-04-09</td>\n",
       "      <td>Sindh</td>\n",
       "      <td>NA-221</td>\n",
       "      <td>PPPP</td>\n",
       "      <td>2021-02-26</td>\n",
       "      <td>Tharparkar</td>\n",
       "      <td>General</td>\n",
       "    </tr>\n",
       "    <tr>\n",
       "      <th>430</th>\n",
       "      <td>qadir khan mandokhail</td>\n",
       "      <td>2022-04-09</td>\n",
       "      <td>Sindh</td>\n",
       "      <td>NA-249</td>\n",
       "      <td>PPPP</td>\n",
       "      <td>2021-05-17</td>\n",
       "      <td>Karachi West</td>\n",
       "      <td>General</td>\n",
       "    </tr>\n",
       "    <tr>\n",
       "      <th>...</th>\n",
       "      <td>...</td>\n",
       "      <td>...</td>\n",
       "      <td>...</td>\n",
       "      <td>...</td>\n",
       "      <td>...</td>\n",
       "      <td>...</td>\n",
       "      <td>...</td>\n",
       "      <td>...</td>\n",
       "    </tr>\n",
       "    <tr>\n",
       "      <th>69938</th>\n",
       "      <td>pir noor muhammad shah jillani</td>\n",
       "      <td>2018-08-15</td>\n",
       "      <td>Sindh</td>\n",
       "      <td>NA-221</td>\n",
       "      <td>PPPP</td>\n",
       "      <td>2018-08-13</td>\n",
       "      <td>Tharparkar</td>\n",
       "      <td>General</td>\n",
       "    </tr>\n",
       "    <tr>\n",
       "      <th>69964</th>\n",
       "      <td>muhammad faisal vawda</td>\n",
       "      <td>2018-08-15</td>\n",
       "      <td>Sindh</td>\n",
       "      <td>NA-249</td>\n",
       "      <td>PTI</td>\n",
       "      <td>2018-08-13</td>\n",
       "      <td>Karachi West</td>\n",
       "      <td>General</td>\n",
       "    </tr>\n",
       "    <tr>\n",
       "      <th>70147</th>\n",
       "      <td>pir noor muhammad shah jillani</td>\n",
       "      <td>2018-08-13</td>\n",
       "      <td>Sindh</td>\n",
       "      <td>NA-221</td>\n",
       "      <td>PPPP</td>\n",
       "      <td>2018-08-13</td>\n",
       "      <td>Tharparkar</td>\n",
       "      <td>General</td>\n",
       "    </tr>\n",
       "    <tr>\n",
       "      <th>70159</th>\n",
       "      <td>muhammad faisal vawda</td>\n",
       "      <td>2018-08-13</td>\n",
       "      <td>Sindh</td>\n",
       "      <td>NA-249</td>\n",
       "      <td>PTI</td>\n",
       "      <td>2018-08-13</td>\n",
       "      <td>Karachi West</td>\n",
       "      <td>General</td>\n",
       "    </tr>\n",
       "    <tr>\n",
       "      <th>70234</th>\n",
       "      <td>munir khan orakzai</td>\n",
       "      <td>2020-02-10</td>\n",
       "      <td>Khyber Pukhtunkhwa</td>\n",
       "      <td>NA-45</td>\n",
       "      <td>PTI</td>\n",
       "      <td>2018-08-13</td>\n",
       "      <td>Khyber Agency</td>\n",
       "      <td>General</td>\n",
       "    </tr>\n",
       "  </tbody>\n",
       "</table>\n",
       "<p>535 rows × 8 columns</p>\n",
       "</div>"
      ],
      "text/plain": [
       "                                 Name       Date            Province  \\\n",
       "123        pir ameer ali shah jeelani 2022-04-10               Sindh   \n",
       "141             qadir khan mandokhail 2022-04-10               Sindh   \n",
       "236                 fakhar zaman khan 2022-04-09  Khyber Pukhtunkhwa   \n",
       "404        pir ameer ali shah jeelani 2022-04-09               Sindh   \n",
       "430             qadir khan mandokhail 2022-04-09               Sindh   \n",
       "...                               ...        ...                 ...   \n",
       "69938  pir noor muhammad shah jillani 2018-08-15               Sindh   \n",
       "69964           muhammad faisal vawda 2018-08-15               Sindh   \n",
       "70147  pir noor muhammad shah jillani 2018-08-13               Sindh   \n",
       "70159           muhammad faisal vawda 2018-08-13               Sindh   \n",
       "70234              munir khan orakzai 2020-02-10  Khyber Pukhtunkhwa   \n",
       "\n",
       "      Constituency Party Oath Taking Date           City Constituency Type  \n",
       "123         NA-221  PPPP       2021-02-26     Tharparkar           General  \n",
       "141         NA-249  PPPP       2021-05-17   Karachi West           General  \n",
       "236          NA-45   PTI       2021-01-03  Khyber Agency           General  \n",
       "404         NA-221  PPPP       2021-02-26     Tharparkar           General  \n",
       "430         NA-249  PPPP       2021-05-17   Karachi West           General  \n",
       "...            ...   ...              ...            ...               ...  \n",
       "69938       NA-221  PPPP       2018-08-13     Tharparkar           General  \n",
       "69964       NA-249   PTI       2018-08-13   Karachi West           General  \n",
       "70147       NA-221  PPPP       2018-08-13     Tharparkar           General  \n",
       "70159       NA-249   PTI       2018-08-13   Karachi West           General  \n",
       "70234        NA-45   PTI       2018-08-13  Khyber Agency           General  \n",
       "\n",
       "[535 rows x 8 columns]"
      ]
     },
     "execution_count": 140,
     "metadata": {},
     "output_type": "execute_result"
    }
   ],
   "source": [
    "more_than_one_member = ['NA-249','NA-45','NA-91','NA-221']\n",
    "more_than_one_member_df = df[df['Constituency'].isin(more_than_one_member)]\n",
    "more_than_one_member_df.groupby(['Constituency','Name','Province','Party'])['Oath Taking Date'].agg(['unique'])\n",
    "more_than_one_member_df"
   ]
  },
  {
   "cell_type": "markdown",
   "metadata": {},
   "source": [
    "These Constituencies had multiple members with different Oath Taking Dates.\n",
    "There can multiple reasons why a member may not complete it's term including disqualification, resignation, \n",
    "Death or any other reason. This can be further researched, but we won't be doing it in this project."
   ]
  },
  {
   "cell_type": "code",
   "execution_count": 141,
   "metadata": {},
   "outputs": [
    {
     "data": {
      "text/plain": [
       "244"
      ]
     },
     "execution_count": 141,
     "metadata": {},
     "output_type": "execute_result"
    }
   ],
   "source": [
    "df.Date.nunique()"
   ]
  },
  {
   "cell_type": "code",
   "execution_count": 142,
   "metadata": {},
   "outputs": [
    {
     "data": {
      "text/plain": [
       "min   2018-08-13\n",
       "max   2022-04-10\n",
       "Name: Date, dtype: datetime64[ns]"
      ]
     },
     "execution_count": 142,
     "metadata": {},
     "output_type": "execute_result"
    }
   ],
   "source": [
    "df['Date'].agg(['min', 'max'])"
   ]
  },
  {
   "cell_type": "markdown",
   "metadata": {},
   "source": [
    "There are total 308 sessions from August 13 2018 till April 10 2022"
   ]
  },
  {
   "cell_type": "code",
   "execution_count": 143,
   "metadata": {},
   "outputs": [
    {
     "data": {
      "text/html": [
       "<div>\n",
       "<style scoped>\n",
       "    .dataframe tbody tr th:only-of-type {\n",
       "        vertical-align: middle;\n",
       "    }\n",
       "\n",
       "    .dataframe tbody tr th {\n",
       "        vertical-align: top;\n",
       "    }\n",
       "\n",
       "    .dataframe thead th {\n",
       "        text-align: right;\n",
       "    }\n",
       "</style>\n",
       "<table border=\"1\" class=\"dataframe\">\n",
       "  <thead>\n",
       "    <tr style=\"text-align: right;\">\n",
       "      <th></th>\n",
       "      <th>Party</th>\n",
       "      <th>Name</th>\n",
       "      <th>Number of Members</th>\n",
       "    </tr>\n",
       "  </thead>\n",
       "  <tbody>\n",
       "    <tr>\n",
       "      <th>0</th>\n",
       "      <td>AMLP</td>\n",
       "      <td>[sheikh rashid ahmed]</td>\n",
       "      <td>1</td>\n",
       "    </tr>\n",
       "    <tr>\n",
       "      <th>1</th>\n",
       "      <td>ANP</td>\n",
       "      <td>[amir haider azam khan]</td>\n",
       "      <td>1</td>\n",
       "    </tr>\n",
       "    <tr>\n",
       "      <th>2</th>\n",
       "      <td>BAP</td>\n",
       "      <td>[muhammad israr tareen, khalid hussain magsi, ...</td>\n",
       "      <td>5</td>\n",
       "    </tr>\n",
       "    <tr>\n",
       "      <th>3</th>\n",
       "      <td>BNP</td>\n",
       "      <td>[agha hassan baloch, muhammad hashim notezai, ...</td>\n",
       "      <td>4</td>\n",
       "    </tr>\n",
       "    <tr>\n",
       "      <th>4</th>\n",
       "      <td>GDA</td>\n",
       "      <td>[ghous bux khan mahar, saira bano, fehmida mirza]</td>\n",
       "      <td>3</td>\n",
       "    </tr>\n",
       "    <tr>\n",
       "      <th>5</th>\n",
       "      <td>Ind</td>\n",
       "      <td>[mohsin dawar, ali wazir, ali nawaz shah, moha...</td>\n",
       "      <td>4</td>\n",
       "    </tr>\n",
       "    <tr>\n",
       "      <th>6</th>\n",
       "      <td>JWP</td>\n",
       "      <td>[nawabzada shazain bugti]</td>\n",
       "      <td>1</td>\n",
       "    </tr>\n",
       "    <tr>\n",
       "      <th>7</th>\n",
       "      <td>MMAP</td>\n",
       "      <td>[afreen khan, zahid akram durrani, muhammad an...</td>\n",
       "      <td>15</td>\n",
       "    </tr>\n",
       "    <tr>\n",
       "      <th>8</th>\n",
       "      <td>MQMP</td>\n",
       "      <td>[sabir hussain kaim khani, salahuddin, syed am...</td>\n",
       "      <td>7</td>\n",
       "    </tr>\n",
       "    <tr>\n",
       "      <th>9</th>\n",
       "      <td>PML</td>\n",
       "      <td>[salik hussain, tariq bashir cheema, moonis el...</td>\n",
       "      <td>5</td>\n",
       "    </tr>\n",
       "    <tr>\n",
       "      <th>10</th>\n",
       "      <td>PML-N</td>\n",
       "      <td>[ibadullah khan, muhammad sajjad, murtaza jave...</td>\n",
       "      <td>86</td>\n",
       "    </tr>\n",
       "    <tr>\n",
       "      <th>11</th>\n",
       "      <td>PPPP</td>\n",
       "      <td>[sajid hussain turi, raja pervez ashraf, syed ...</td>\n",
       "      <td>57</td>\n",
       "    </tr>\n",
       "    <tr>\n",
       "      <th>12</th>\n",
       "      <td>PTI</td>\n",
       "      <td>[ali muhammad khan, noor alam khan, farrukh al...</td>\n",
       "      <td>157</td>\n",
       "    </tr>\n",
       "  </tbody>\n",
       "</table>\n",
       "</div>"
      ],
      "text/plain": [
       "    Party                                               Name  \\\n",
       "0    AMLP                              [sheikh rashid ahmed]   \n",
       "1     ANP                            [amir haider azam khan]   \n",
       "2     BAP  [muhammad israr tareen, khalid hussain magsi, ...   \n",
       "3     BNP  [agha hassan baloch, muhammad hashim notezai, ...   \n",
       "4     GDA  [ghous bux khan mahar, saira bano, fehmida mirza]   \n",
       "5     Ind  [mohsin dawar, ali wazir, ali nawaz shah, moha...   \n",
       "6     JWP                          [nawabzada shazain bugti]   \n",
       "7    MMAP  [afreen khan, zahid akram durrani, muhammad an...   \n",
       "8    MQMP  [sabir hussain kaim khani, salahuddin, syed am...   \n",
       "9     PML  [salik hussain, tariq bashir cheema, moonis el...   \n",
       "10  PML-N  [ibadullah khan, muhammad sajjad, murtaza jave...   \n",
       "11   PPPP  [sajid hussain turi, raja pervez ashraf, syed ...   \n",
       "12    PTI  [ali muhammad khan, noor alam khan, farrukh al...   \n",
       "\n",
       "    Number of Members  \n",
       "0                   1  \n",
       "1                   1  \n",
       "2                   5  \n",
       "3                   4  \n",
       "4                   3  \n",
       "5                   4  \n",
       "6                   1  \n",
       "7                  15  \n",
       "8                   7  \n",
       "9                   5  \n",
       "10                 86  \n",
       "11                 57  \n",
       "12                157  "
      ]
     },
     "execution_count": 143,
     "metadata": {},
     "output_type": "execute_result"
    }
   ],
   "source": [
    "df2 = df.groupby('Party')['Name'].unique().reset_index()\n",
    "df2['Number of Members'] = df2['Name'].apply(lambda x: len(x))\n",
    "df2"
   ]
  },
  {
   "cell_type": "markdown",
   "metadata": {},
   "source": [
    "Party wise members strength"
   ]
  },
  {
   "cell_type": "code",
   "execution_count": 144,
   "metadata": {},
   "outputs": [
    {
     "data": {
      "text/plain": [
       "<Axes: xlabel='Number of Members', ylabel='Party'>"
      ]
     },
     "execution_count": 144,
     "metadata": {},
     "output_type": "execute_result"
    },
    {
     "data": {
      "image/png": "[encoded data removed]",
      "text/plain": [
       "<Figure size 1500x1000 with 1 Axes>"
      ]
     },
     "metadata": {},
     "output_type": "display_data"
    }
   ],
   "source": [
    "sns.set(rc={'figure.figsize':(15,10)})\n",
    "sns.barplot(y=\"Party\", x = \"Number of Members\",data=df2, \n",
    "            order=df2.sort_values('Number of Members',ascending = False).Party)"
   ]
  },
  {
   "cell_type": "markdown",
   "metadata": {},
   "source": [
    "Province wise members distribution"
   ]
  },
  {
   "cell_type": "code",
   "execution_count": 145,
   "metadata": {},
   "outputs": [
    {
     "data": {
      "application/vnd.plotly.v1+json": {
       "config": {
        "plotlyServerURL": "https://plot.ly"
       },
       "data": [
        {
         "domain": {
          "x": [
           0,
           1
          ],
          "y": [
           0,
           1
          ]
         },
         "hovertemplate": "Province=%{label}<br>Number of Members=%{value}<extra></extra>",
         "labels": [
          "Balochistan",
          "Federal",
          "Khyber Pukhtunkhwa",
          "Punjab",
          "Reserved for Minorities",
          "Sindh"
         ],
         "legendgroup": "",
         "name": "",
         "showlegend": true,
         "type": "pie",
         "values": [
          20,
          3,
          61,
          175,
          10,
          77
         ]
        }
       ],
       "layout": {
        "legend": {
         "tracegroupgap": 0
        },
        "template": {
         "data": {
          "bar": [
           {
            "error_x": {
             "color": "#2a3f5f"
            },
            "error_y": {
             "color": "#2a3f5f"
            },
            "marker": {
             "line": {
              "color": "#E5ECF6",
              "width": 0.5
             },
             "pattern": {
              "fillmode": "overlay",
              "size": 10,
              "solidity": 0.2
             }
            },
            "type": "bar"
           }
          ],
          "barpolar": [
           {
            "marker": {
             "line": {
              "color": "#E5ECF6",
              "width": 0.5
             },
             "pattern": {
              "fillmode": "overlay",
              "size": 10,
              "solidity": 0.2
             }
            },
            "type": "barpolar"
           }
          ],
          "carpet": [
           {
            "aaxis": {
             "endlinecolor": "#2a3f5f",
             "gridcolor": "white",
             "linecolor": "white",
             "minorgridcolor": "white",
             "startlinecolor": "#2a3f5f"
            },
            "baxis": {
             "endlinecolor": "#2a3f5f",
             "gridcolor": "white",
             "linecolor": "white",
             "minorgridcolor": "white",
             "startlinecolor": "#2a3f5f"
            },
            "type": "carpet"
           }
          ],
          "choropleth": [
           {
            "colorbar": {
             "outlinewidth": 0,
             "ticks": ""
            },
            "type": "choropleth"
           }
          ],
          "contour": [
           {
            "colorbar": {
             "outlinewidth": 0,
             "ticks": ""
            },
            "colorscale": [
             [
              0,
              "#0d0887"
             ],
             [
              0.1111111111111111,
              "#46039f"
             ],
             [
              0.2222222222222222,
              "#7201a8"
             ],
             [
              0.3333333333333333,
              "#9c179e"
             ],
             [
              0.4444444444444444,
              "#bd3786"
             ],
             [
              0.5555555555555556,
              "#d8576b"
             ],
             [
              0.6666666666666666,
              "#ed7953"
             ],
             [
              0.7777777777777778,
              "#fb9f3a"
             ],
             [
              0.8888888888888888,
              "#fdca26"
             ],
             [
              1,
              "#f0f921"
             ]
            ],
            "type": "contour"
           }
          ],
          "contourcarpet": [
           {
            "colorbar": {
             "outlinewidth": 0,
             "ticks": ""
            },
            "type": "contourcarpet"
           }
          ],
          "heatmap": [
           {
            "colorbar": {
             "outlinewidth": 0,
             "ticks": ""
            },
            "colorscale": [
             [
              0,
              "#0d0887"
             ],
             [
              0.1111111111111111,
              "#46039f"
             ],
             [
              0.2222222222222222,
              "#7201a8"
             ],
             [
              0.3333333333333333,
              "#9c179e"
             ],
             [
              0.4444444444444444,
              "#bd3786"
             ],
             [
              0.5555555555555556,
              "#d8576b"
             ],
             [
              0.6666666666666666,
              "#ed7953"
             ],
             [
              0.7777777777777778,
              "#fb9f3a"
             ],
             [
              0.8888888888888888,
              "#fdca26"
             ],
             [
              1,
              "#f0f921"
             ]
            ],
            "type": "heatmap"
           }
          ],
          "heatmapgl": [
           {
            "colorbar": {
             "outlinewidth": 0,
             "ticks": ""
            },
            "colorscale": [
             [
              0,
              "#0d0887"
             ],
             [
              0.1111111111111111,
              "#46039f"
             ],
             [
              0.2222222222222222,
              "#7201a8"
             ],
             [
              0.3333333333333333,
              "#9c179e"
             ],
             [
              0.4444444444444444,
              "#bd3786"
             ],
             [
              0.5555555555555556,
              "#d8576b"
             ],
             [
              0.6666666666666666,
              "#ed7953"
             ],
             [
              0.7777777777777778,
              "#fb9f3a"
             ],
             [
              0.8888888888888888,
              "#fdca26"
             ],
             [
              1,
              "#f0f921"
             ]
            ],
            "type": "heatmapgl"
           }
          ],
          "histogram": [
           {
            "marker": {
             "pattern": {
              "fillmode": "overlay",
              "size": 10,
              "solidity": 0.2
             }
            },
            "type": "histogram"
           }
          ],
          "histogram2d": [
           {
            "colorbar": {
             "outlinewidth": 0,
             "ticks": ""
            },
            "colorscale": [
             [
              0,
              "#0d0887"
             ],
             [
              0.1111111111111111,
              "#46039f"
             ],
             [
              0.2222222222222222,
              "#7201a8"
             ],
             [
              0.3333333333333333,
              "#9c179e"
             ],
             [
              0.4444444444444444,
              "#bd3786"
             ],
             [
              0.5555555555555556,
              "#d8576b"
             ],
             [
              0.6666666666666666,
              "#ed7953"
             ],
             [
              0.7777777777777778,
              "#fb9f3a"
             ],
             [
              0.8888888888888888,
              "#fdca26"
             ],
             [
              1,
              "#f0f921"
             ]
            ],
            "type": "histogram2d"
           }
          ],
          "histogram2dcontour": [
           {
            "colorbar": {
             "outlinewidth": 0,
             "ticks": ""
            },
            "colorscale": [
             [
              0,
              "#0d0887"
             ],
             [
              0.1111111111111111,
              "#46039f"
             ],
             [
              0.2222222222222222,
              "#7201a8"
             ],
             [
              0.3333333333333333,
              "#9c179e"
             ],
             [
              0.4444444444444444,
              "#bd3786"
             ],
             [
              0.5555555555555556,
              "#d8576b"
             ],
             [
              0.6666666666666666,
              "#ed7953"
             ],
             [
              0.7777777777777778,
              "#fb9f3a"
             ],
             [
              0.8888888888888888,
              "#fdca26"
             ],
             [
              1,
              "#f0f921"
             ]
            ],
            "type": "histogram2dcontour"
           }
          ],
          "mesh3d": [
           {
            "colorbar": {
             "outlinewidth": 0,
             "ticks": ""
            },
            "type": "mesh3d"
           }
          ],
          "parcoords": [
           {
            "line": {
             "colorbar": {
              "outlinewidth": 0,
              "ticks": ""
             }
            },
            "type": "parcoords"
           }
          ],
          "pie": [
           {
            "automargin": true,
            "type": "pie"
           }
          ],
          "scatter": [
           {
            "fillpattern": {
             "fillmode": "overlay",
             "size": 10,
             "solidity": 0.2
            },
            "type": "scatter"
           }
          ],
          "scatter3d": [
           {
            "line": {
             "colorbar": {
              "outlinewidth": 0,
              "ticks": ""
             }
            },
            "marker": {
             "colorbar": {
              "outlinewidth": 0,
              "ticks": ""
             }
            },
            "type": "scatter3d"
           }
          ],
          "scattercarpet": [
           {
            "marker": {
             "colorbar": {
              "outlinewidth": 0,
              "ticks": ""
             }
            },
            "type": "scattercarpet"
           }
          ],
          "scattergeo": [
           {
            "marker": {
             "colorbar": {
              "outlinewidth": 0,
              "ticks": ""
             }
            },
            "type": "scattergeo"
           }
          ],
          "scattergl": [
           {
            "marker": {
             "colorbar": {
              "outlinewidth": 0,
              "ticks": ""
             }
            },
            "type": "scattergl"
           }
          ],
          "scattermapbox": [
           {
            "marker": {
             "colorbar": {
              "outlinewidth": 0,
              "ticks": ""
             }
            },
            "type": "scattermapbox"
           }
          ],
          "scatterpolar": [
           {
            "marker": {
             "colorbar": {
              "outlinewidth": 0,
              "ticks": ""
             }
            },
            "type": "scatterpolar"
           }
          ],
          "scatterpolargl": [
           {
            "marker": {
             "colorbar": {
              "outlinewidth": 0,
              "ticks": ""
             }
            },
            "type": "scatterpolargl"
           }
          ],
          "scatterternary": [
           {
            "marker": {
             "colorbar": {
              "outlinewidth": 0,
              "ticks": ""
             }
            },
            "type": "scatterternary"
           }
          ],
          "surface": [
           {
            "colorbar": {
             "outlinewidth": 0,
             "ticks": ""
            },
            "colorscale": [
             [
              0,
              "#0d0887"
             ],
             [
              0.1111111111111111,
              "#46039f"
             ],
             [
              0.2222222222222222,
              "#7201a8"
             ],
             [
              0.3333333333333333,
              "#9c179e"
             ],
             [
              0.4444444444444444,
              "#bd3786"
             ],
             [
              0.5555555555555556,
              "#d8576b"
             ],
             [
              0.6666666666666666,
              "#ed7953"
             ],
             [
              0.7777777777777778,
              "#fb9f3a"
             ],
             [
              0.8888888888888888,
              "#fdca26"
             ],
             [
              1,
              "#f0f921"
             ]
            ],
            "type": "surface"
           }
          ],
          "table": [
           {
            "cells": {
             "fill": {
              "color": "#EBF0F8"
             },
             "line": {
              "color": "white"
             }
            },
            "header": {
             "fill": {
              "color": "#C8D4E3"
             },
             "line": {
              "color": "white"
             }
            },
            "type": "table"
           }
          ]
         },
         "layout": {
          "annotationdefaults": {
           "arrowcolor": "#2a3f5f",
           "arrowhead": 0,
           "arrowwidth": 1
          },
          "autotypenumbers": "strict",
          "coloraxis": {
           "colorbar": {
            "outlinewidth": 0,
            "ticks": ""
           }
          },
          "colorscale": {
           "diverging": [
            [
             0,
             "#8e0152"
            ],
            [
             0.1,
             "#c51b7d"
            ],
            [
             0.2,
             "#de77ae"
            ],
            [
             0.3,
             "#f1b6da"
            ],
            [
             0.4,
             "#fde0ef"
            ],
            [
             0.5,
             "#f7f7f7"
            ],
            [
             0.6,
             "#e6f5d0"
            ],
            [
             0.7,
             "#b8e186"
            ],
            [
             0.8,
             "#7fbc41"
            ],
            [
             0.9,
             "#4d9221"
            ],
            [
             1,
             "#276419"
            ]
           ],
           "sequential": [
            [
             0,
             "#0d0887"
            ],
            [
             0.1111111111111111,
             "#46039f"
            ],
            [
             0.2222222222222222,
             "#7201a8"
            ],
            [
             0.3333333333333333,
             "#9c179e"
            ],
            [
             0.4444444444444444,
             "#bd3786"
            ],
            [
             0.5555555555555556,
             "#d8576b"
            ],
            [
             0.6666666666666666,
             "#ed7953"
            ],
            [
             0.7777777777777778,
             "#fb9f3a"
            ],
            [
             0.8888888888888888,
             "#fdca26"
            ],
            [
             1,
             "#f0f921"
            ]
           ],
           "sequentialminus": [
            [
             0,
             "#0d0887"
            ],
            [
             0.1111111111111111,
             "#46039f"
            ],
            [
             0.2222222222222222,
             "#7201a8"
            ],
            [
             0.3333333333333333,
             "#9c179e"
            ],
            [
             0.4444444444444444,
             "#bd3786"
            ],
            [
             0.5555555555555556,
             "#d8576b"
            ],
            [
             0.6666666666666666,
             "#ed7953"
            ],
            [
             0.7777777777777778,
             "#fb9f3a"
            ],
            [
             0.8888888888888888,
             "#fdca26"
            ],
            [
             1,
             "#f0f921"
            ]
           ]
          },
          "colorway": [
           "#636efa",
           "#EF553B",
           "#00cc96",
           "#ab63fa",
           "#FFA15A",
           "#19d3f3",
           "#FF6692",
           "#B6E880",
           "#FF97FF",
           "#FECB52"
          ],
          "font": {
           "color": "#2a3f5f"
          },
          "geo": {
           "bgcolor": "white",
           "lakecolor": "white",
           "landcolor": "#E5ECF6",
           "showlakes": true,
           "showland": true,
           "subunitcolor": "white"
          },
          "hoverlabel": {
           "align": "left"
          },
          "hovermode": "closest",
          "mapbox": {
           "style": "light"
          },
          "paper_bgcolor": "white",
          "plot_bgcolor": "#E5ECF6",
          "polar": {
           "angularaxis": {
            "gridcolor": "white",
            "linecolor": "white",
            "ticks": ""
           },
           "bgcolor": "#E5ECF6",
           "radialaxis": {
            "gridcolor": "white",
            "linecolor": "white",
            "ticks": ""
           }
          },
          "scene": {
           "xaxis": {
            "backgroundcolor": "#E5ECF6",
            "gridcolor": "white",
            "gridwidth": 2,
            "linecolor": "white",
            "showbackground": true,
            "ticks": "",
            "zerolinecolor": "white"
           },
           "yaxis": {
            "backgroundcolor": "#E5ECF6",
            "gridcolor": "white",
            "gridwidth": 2,
            "linecolor": "white",
            "showbackground": true,
            "ticks": "",
            "zerolinecolor": "white"
           },
           "zaxis": {
            "backgroundcolor": "#E5ECF6",
            "gridcolor": "white",
            "gridwidth": 2,
            "linecolor": "white",
            "showbackground": true,
            "ticks": "",
            "zerolinecolor": "white"
           }
          },
          "shapedefaults": {
           "line": {
            "color": "#2a3f5f"
           }
          },
          "ternary": {
           "aaxis": {
            "gridcolor": "white",
            "linecolor": "white",
            "ticks": ""
           },
           "baxis": {
            "gridcolor": "white",
            "linecolor": "white",
            "ticks": ""
           },
           "bgcolor": "#E5ECF6",
           "caxis": {
            "gridcolor": "white",
            "linecolor": "white",
            "ticks": ""
           }
          },
          "title": {
           "x": 0.05
          },
          "xaxis": {
           "automargin": true,
           "gridcolor": "white",
           "linecolor": "white",
           "ticks": "",
           "title": {
            "standoff": 15
           },
           "zerolinecolor": "white",
           "zerolinewidth": 2
          },
          "yaxis": {
           "automargin": true,
           "gridcolor": "white",
           "linecolor": "white",
           "ticks": "",
           "title": {
            "standoff": 15
           },
           "zerolinecolor": "white",
           "zerolinewidth": 2
          }
         }
        },
        "title": {
         "text": "Province Wise Members distribution"
        }
       }
      }
     },
     "metadata": {},
     "output_type": "display_data"
    }
   ],
   "source": [
    "df3 = df.groupby('Province')['Name'].unique().reset_index()\n",
    "df3['Number of Members'] = df3['Name'].apply(lambda x: len(x))\n",
    "fig = px.pie(df3, values='Number of Members', names='Province', title='Province Wise Members distribution')\n",
    "fig.show()"
   ]
  },
  {
   "cell_type": "code",
   "execution_count": 146,
   "metadata": {},
   "outputs": [
    {
     "data": {
      "text/html": [
       "<div>\n",
       "<style scoped>\n",
       "    .dataframe tbody tr th:only-of-type {\n",
       "        vertical-align: middle;\n",
       "    }\n",
       "\n",
       "    .dataframe tbody tr th {\n",
       "        vertical-align: top;\n",
       "    }\n",
       "\n",
       "    .dataframe thead th {\n",
       "        text-align: right;\n",
       "    }\n",
       "</style>\n",
       "<table border=\"1\" class=\"dataframe\">\n",
       "  <thead>\n",
       "    <tr style=\"text-align: right;\">\n",
       "      <th></th>\n",
       "      <th>Date</th>\n",
       "      <th>Name</th>\n",
       "      <th>Members</th>\n",
       "    </tr>\n",
       "  </thead>\n",
       "  <tbody>\n",
       "    <tr>\n",
       "      <th>63</th>\n",
       "      <td>2019-06-28</td>\n",
       "      <td>[sardar zulfiqar ali khan dullah, zulfiqar ali...</td>\n",
       "      <td>333</td>\n",
       "    </tr>\n",
       "    <tr>\n",
       "      <th>226</th>\n",
       "      <td>2021-11-17</td>\n",
       "      <td>[moulana abdul akbar chitrali, haider ali khan...</td>\n",
       "      <td>331</td>\n",
       "    </tr>\n",
       "    <tr>\n",
       "      <th>62</th>\n",
       "      <td>2019-06-27</td>\n",
       "      <td>[sardar zulfiqar ali khan dullah, zulfiqar ali...</td>\n",
       "      <td>330</td>\n",
       "    </tr>\n",
       "    <tr>\n",
       "      <th>61</th>\n",
       "      <td>2019-06-26</td>\n",
       "      <td>[moulana abdul akbar chitrali, haider ali khan...</td>\n",
       "      <td>326</td>\n",
       "    </tr>\n",
       "    <tr>\n",
       "      <th>193</th>\n",
       "      <td>2021-06-29</td>\n",
       "      <td>[moulana abdul akbar chitrali, haider ali khan...</td>\n",
       "      <td>326</td>\n",
       "    </tr>\n",
       "    <tr>\n",
       "      <th>...</th>\n",
       "      <td>...</td>\n",
       "      <td>...</td>\n",
       "      <td>...</td>\n",
       "    </tr>\n",
       "    <tr>\n",
       "      <th>188</th>\n",
       "      <td>2021-06-19</td>\n",
       "      <td>[haider ali khan, mehboob shah, junaid akbar, ...</td>\n",
       "      <td>121</td>\n",
       "    </tr>\n",
       "    <tr>\n",
       "      <th>201</th>\n",
       "      <td>2021-07-19</td>\n",
       "      <td>[moulana abdul akbar chitrali, saleem rehman, ...</td>\n",
       "      <td>109</td>\n",
       "    </tr>\n",
       "    <tr>\n",
       "      <th>237</th>\n",
       "      <td>2022-01-17</td>\n",
       "      <td>[moulana abdul akbar chitrali, murad saeed, ju...</td>\n",
       "      <td>105</td>\n",
       "    </tr>\n",
       "    <tr>\n",
       "      <th>211</th>\n",
       "      <td>2021-09-24</td>\n",
       "      <td>[zulfiqar ali bhindar, moulana abdul akbar chi...</td>\n",
       "      <td>87</td>\n",
       "    </tr>\n",
       "    <tr>\n",
       "      <th>2</th>\n",
       "      <td>2018-08-17</td>\n",
       "      <td>[sardar zulfiqar ali khan dullah, zulfiqar ali...</td>\n",
       "      <td>81</td>\n",
       "    </tr>\n",
       "  </tbody>\n",
       "</table>\n",
       "<p>244 rows × 3 columns</p>\n",
       "</div>"
      ],
      "text/plain": [
       "          Date                                               Name  Members\n",
       "63  2019-06-28  [sardar zulfiqar ali khan dullah, zulfiqar ali...      333\n",
       "226 2021-11-17  [moulana abdul akbar chitrali, haider ali khan...      331\n",
       "62  2019-06-27  [sardar zulfiqar ali khan dullah, zulfiqar ali...      330\n",
       "61  2019-06-26  [moulana abdul akbar chitrali, haider ali khan...      326\n",
       "193 2021-06-29  [moulana abdul akbar chitrali, haider ali khan...      326\n",
       "..         ...                                                ...      ...\n",
       "188 2021-06-19  [haider ali khan, mehboob shah, junaid akbar, ...      121\n",
       "201 2021-07-19  [moulana abdul akbar chitrali, saleem rehman, ...      109\n",
       "237 2022-01-17  [moulana abdul akbar chitrali, murad saeed, ju...      105\n",
       "211 2021-09-24  [zulfiqar ali bhindar, moulana abdul akbar chi...       87\n",
       "2   2018-08-17  [sardar zulfiqar ali khan dullah, zulfiqar ali...       81\n",
       "\n",
       "[244 rows x 3 columns]"
      ]
     },
     "execution_count": 146,
     "metadata": {},
     "output_type": "execute_result"
    }
   ],
   "source": [
    "df4 = df.groupby('Date')['Name'].unique().reset_index()\n",
    "df4['Members'] = df4['Name'].apply(lambda x: len(x))\n",
    "df4.sort_values(by=['Members'], ascending=False)"
   ]
  },
  {
   "cell_type": "markdown",
   "metadata": {},
   "source": [
    "Sessions distribution wrt the number of members"
   ]
  },
  {
   "cell_type": "code",
   "execution_count": 147,
   "metadata": {},
   "outputs": [
    {
     "data": {
      "text/plain": [
       "<seaborn.axisgrid.FacetGrid at 0x216f6172c10>"
      ]
     },
     "execution_count": 147,
     "metadata": {},
     "output_type": "execute_result"
    },
    {
     "data": {
      "image/png": "[encoded data removed]",
      "text/plain": [
       "<Figure size 500x500 with 1 Axes>"
      ]
     },
     "metadata": {},
     "output_type": "display_data"
    }
   ],
   "source": [
    "ax = sns.displot(data=df4, x=\"Members\",kde=True)\n",
    "ax.set(ylabel='Number of sessions', xlabel='Members')"
   ]
  },
  {
   "cell_type": "code",
   "execution_count": 148,
   "metadata": {},
   "outputs": [
    {
     "name": "stdout",
     "output_type": "stream",
     "text": [
      "199.75\n",
      "229.8155737704918\n",
      "261.0\n",
      "61.25\n"
     ]
    }
   ],
   "source": [
    "mean = df4.Members.mean()\n",
    "Q1 = df4.Members.quantile(0.25)\n",
    "Q3 = df4.Members.quantile(0.75)\n",
    "IQR = Q3 - Q1\n",
    "\n",
    "print(Q1)\n",
    "print(mean)\n",
    "print(Q3)\n",
    "print(IQR)"
   ]
  },
  {
   "cell_type": "code",
   "execution_count": 149,
   "metadata": {},
   "outputs": [
    {
     "data": {
      "text/plain": [
       "{'whiskers': [<matplotlib.lines.Line2D at 0x216f76d2d50>,\n",
       "  <matplotlib.lines.Line2D at 0x21681c0b250>],\n",
       " 'caps': [<matplotlib.lines.Line2D at 0x21681c0b110>,\n",
       "  <matplotlib.lines.Line2D at 0x21681c0b390>],\n",
       " 'boxes': [<matplotlib.lines.Line2D at 0x216f76d2e90>],\n",
       " 'medians': [<matplotlib.lines.Line2D at 0x21681c0b4d0>],\n",
       " 'fliers': [<matplotlib.lines.Line2D at 0x21681c0b610>],\n",
       " 'means': []}"
      ]
     },
     "execution_count": 149,
     "metadata": {},
     "output_type": "execute_result"
    },
    {
     "data": {
      "image/png": "[encoded data removed]",
      "text/plain": [
       "<Figure size 1500x1000 with 1 Axes>"
      ]
     },
     "metadata": {},
     "output_type": "display_data"
    }
   ],
   "source": [
    "plt.boxplot(df4.Members)"
   ]
  },
  {
   "cell_type": "markdown",
   "metadata": {},
   "source": [
    "Session wise Attendence"
   ]
  },
  {
   "cell_type": "code",
   "execution_count": 150,
   "metadata": {},
   "outputs": [
    {
     "data": {
      "image/png": "[encoded data removed]",
      "text/plain": [
       "<Figure size 1500x1000 with 1 Axes>"
      ]
     },
     "metadata": {},
     "output_type": "display_data"
    }
   ],
   "source": [
    "import matplotlib.pyplot as plt\n",
    "\n",
    "plt.scatter(df4['Date'], df4['Members'])\n",
    "plt.title('Session wise Attendence')\n",
    "plt.xlabel('Date')\n",
    "plt.ylabel('Members')\n",
    "plt.show()"
   ]
  },
  {
   "cell_type": "markdown",
   "metadata": {},
   "source": [
    "10 Highest & 10 Lowest Attendence Sessions comparison"
   ]
  },
  {
   "cell_type": "code",
   "execution_count": 151,
   "metadata": {},
   "outputs": [],
   "source": [
    "most_attendence_date = df4.sort_values(by=['Members'], ascending=False)[:10]\n",
    "most_attendence_date = most_attendence_date[['Date','Members']].reset_index(drop=True)"
   ]
  },
  {
   "cell_type": "code",
   "execution_count": 152,
   "metadata": {},
   "outputs": [],
   "source": [
    "least_attendence_date = df4.sort_values(by=['Members'], ascending=False)[-10:]\n",
    "least_attendence_date = least_attendence_date[['Date','Members']].reset_index(drop=True)"
   ]
  },
  {
   "cell_type": "code",
   "execution_count": 153,
   "metadata": {},
   "outputs": [
    {
     "data": {
      "text/html": [
       "<div>\n",
       "<style scoped>\n",
       "    .dataframe tbody tr th:only-of-type {\n",
       "        vertical-align: middle;\n",
       "    }\n",
       "\n",
       "    .dataframe tbody tr th {\n",
       "        vertical-align: top;\n",
       "    }\n",
       "\n",
       "    .dataframe thead th {\n",
       "        text-align: right;\n",
       "    }\n",
       "</style>\n",
       "<table border=\"1\" class=\"dataframe\">\n",
       "  <thead>\n",
       "    <tr style=\"text-align: right;\">\n",
       "      <th></th>\n",
       "      <th>Date</th>\n",
       "      <th>Members</th>\n",
       "    </tr>\n",
       "  </thead>\n",
       "  <tbody>\n",
       "    <tr>\n",
       "      <th>4</th>\n",
       "      <td>Aug 13, 2018</td>\n",
       "      <td>137</td>\n",
       "    </tr>\n",
       "    <tr>\n",
       "      <th>5</th>\n",
       "      <td>Aug 15, 2018</td>\n",
       "      <td>324</td>\n",
       "    </tr>\n",
       "    <tr>\n",
       "      <th>9</th>\n",
       "      <td>Aug 17, 2018</td>\n",
       "      <td>81</td>\n",
       "    </tr>\n",
       "    <tr>\n",
       "      <th>3</th>\n",
       "      <td>Jun 26, 2019</td>\n",
       "      <td>326</td>\n",
       "    </tr>\n",
       "    <tr>\n",
       "      <th>2</th>\n",
       "      <td>Jun 27, 2019</td>\n",
       "      <td>330</td>\n",
       "    </tr>\n",
       "    <tr>\n",
       "      <th>0</th>\n",
       "      <td>Jun 28, 2019</td>\n",
       "      <td>333</td>\n",
       "    </tr>\n",
       "    <tr>\n",
       "      <th>8</th>\n",
       "      <td>Jun 29, 2019</td>\n",
       "      <td>318</td>\n",
       "    </tr>\n",
       "    <tr>\n",
       "      <th>1</th>\n",
       "      <td>Jun 11, 2020</td>\n",
       "      <td>145</td>\n",
       "    </tr>\n",
       "    <tr>\n",
       "      <th>0</th>\n",
       "      <td>Jun 18, 2020</td>\n",
       "      <td>151</td>\n",
       "    </tr>\n",
       "    <tr>\n",
       "      <th>3</th>\n",
       "      <td>Jun 19, 2020</td>\n",
       "      <td>142</td>\n",
       "    </tr>\n",
       "    <tr>\n",
       "      <th>5</th>\n",
       "      <td>Jun 19, 2021</td>\n",
       "      <td>121</td>\n",
       "    </tr>\n",
       "    <tr>\n",
       "      <th>4</th>\n",
       "      <td>Jun 29, 2021</td>\n",
       "      <td>326</td>\n",
       "    </tr>\n",
       "    <tr>\n",
       "      <th>9</th>\n",
       "      <td>Jun 30, 2021</td>\n",
       "      <td>318</td>\n",
       "    </tr>\n",
       "    <tr>\n",
       "      <th>6</th>\n",
       "      <td>Jul 19, 2021</td>\n",
       "      <td>109</td>\n",
       "    </tr>\n",
       "    <tr>\n",
       "      <th>8</th>\n",
       "      <td>Sep 24, 2021</td>\n",
       "      <td>87</td>\n",
       "    </tr>\n",
       "    <tr>\n",
       "      <th>2</th>\n",
       "      <td>Oct 18, 2021</td>\n",
       "      <td>145</td>\n",
       "    </tr>\n",
       "    <tr>\n",
       "      <th>1</th>\n",
       "      <td>Nov 17, 2021</td>\n",
       "      <td>331</td>\n",
       "    </tr>\n",
       "    <tr>\n",
       "      <th>7</th>\n",
       "      <td>Jan 13, 2022</td>\n",
       "      <td>320</td>\n",
       "    </tr>\n",
       "    <tr>\n",
       "      <th>7</th>\n",
       "      <td>Jan 17, 2022</td>\n",
       "      <td>105</td>\n",
       "    </tr>\n",
       "    <tr>\n",
       "      <th>6</th>\n",
       "      <td>Apr 09, 2022</td>\n",
       "      <td>323</td>\n",
       "    </tr>\n",
       "  </tbody>\n",
       "</table>\n",
       "</div>"
      ],
      "text/plain": [
       "           Date  Members\n",
       "4  Aug 13, 2018      137\n",
       "5  Aug 15, 2018      324\n",
       "9  Aug 17, 2018       81\n",
       "3  Jun 26, 2019      326\n",
       "2  Jun 27, 2019      330\n",
       "0  Jun 28, 2019      333\n",
       "8  Jun 29, 2019      318\n",
       "1  Jun 11, 2020      145\n",
       "0  Jun 18, 2020      151\n",
       "3  Jun 19, 2020      142\n",
       "5  Jun 19, 2021      121\n",
       "4  Jun 29, 2021      326\n",
       "9  Jun 30, 2021      318\n",
       "6  Jul 19, 2021      109\n",
       "8  Sep 24, 2021       87\n",
       "2  Oct 18, 2021      145\n",
       "1  Nov 17, 2021      331\n",
       "7  Jan 13, 2022      320\n",
       "7  Jan 17, 2022      105\n",
       "6  Apr 09, 2022      323"
      ]
     },
     "execution_count": 153,
     "metadata": {},
     "output_type": "execute_result"
    }
   ],
   "source": [
    "highest_lowest = pd.concat([most_attendence_date, least_attendence_date])\n",
    "highest_lowest = highest_lowest.sort_values(by=['Date'])\n",
    "highest_lowest['Date'] = highest_lowest['Date'].dt.strftime('%b %d, %Y')\n",
    "highest_lowest"
   ]
  },
  {
   "cell_type": "code",
   "execution_count": 154,
   "metadata": {},
   "outputs": [
    {
     "data": {
      "application/vnd.plotly.v1+json": {
       "config": {
        "plotlyServerURL": "https://plot.ly"
       },
       "data": [
        {
         "hovertemplate": "Date=%{x}<br>Members=%{y}<extra></extra>",
         "legendgroup": "",
         "marker": {
          "color": "#636efa",
          "symbol": "circle"
         },
         "mode": "markers",
         "name": "",
         "orientation": "v",
         "showlegend": false,
         "type": "scatter",
         "x": [
          "Aug 13, 2018",
          "Aug 15, 2018",
          "Aug 17, 2018",
          "Jun 26, 2019",
          "Jun 27, 2019",
          "Jun 28, 2019",
          "Jun 29, 2019",
          "Jun 11, 2020",
          "Jun 18, 2020",
          "Jun 19, 2020",
          "Jun 19, 2021",
          "Jun 29, 2021",
          "Jun 30, 2021",
          "Jul 19, 2021",
          "Sep 24, 2021",
          "Oct 18, 2021",
          "Nov 17, 2021",
          "Jan 13, 2022",
          "Jan 17, 2022",
          "Apr 09, 2022"
         ],
         "xaxis": "x",
         "y": [
          137,
          324,
          81,
          326,
          330,
          333,
          318,
          145,
          151,
          142,
          121,
          326,
          318,
          109,
          87,
          145,
          331,
          320,
          105,
          323
         ],
         "yaxis": "y"
        }
       ],
       "layout": {
        "legend": {
         "tracegroupgap": 0
        },
        "template": {
         "data": {
          "bar": [
           {
            "error_x": {
             "color": "#2a3f5f"
            },
            "error_y": {
             "color": "#2a3f5f"
            },
            "marker": {
             "line": {
              "color": "#E5ECF6",
              "width": 0.5
             },
             "pattern": {
              "fillmode": "overlay",
              "size": 10,
              "solidity": 0.2
             }
            },
            "type": "bar"
           }
          ],
          "barpolar": [
           {
            "marker": {
             "line": {
              "color": "#E5ECF6",
              "width": 0.5
             },
             "pattern": {
              "fillmode": "overlay",
              "size": 10,
              "solidity": 0.2
             }
            },
            "type": "barpolar"
           }
          ],
          "carpet": [
           {
            "aaxis": {
             "endlinecolor": "#2a3f5f",
             "gridcolor": "white",
             "linecolor": "white",
             "minorgridcolor": "white",
             "startlinecolor": "#2a3f5f"
            },
            "baxis": {
             "endlinecolor": "#2a3f5f",
             "gridcolor": "white",
             "linecolor": "white",
             "minorgridcolor": "white",
             "startlinecolor": "#2a3f5f"
            },
            "type": "carpet"
           }
          ],
          "choropleth": [
           {
            "colorbar": {
             "outlinewidth": 0,
             "ticks": ""
            },
            "type": "choropleth"
           }
          ],
          "contour": [
           {
            "colorbar": {
             "outlinewidth": 0,
             "ticks": ""
            },
            "colorscale": [
             [
              0,
              "#0d0887"
             ],
             [
              0.1111111111111111,
              "#46039f"
             ],
             [
              0.2222222222222222,
              "#7201a8"
             ],
             [
              0.3333333333333333,
              "#9c179e"
             ],
             [
              0.4444444444444444,
              "#bd3786"
             ],
             [
              0.5555555555555556,
              "#d8576b"
             ],
             [
              0.6666666666666666,
              "#ed7953"
             ],
             [
              0.7777777777777778,
              "#fb9f3a"
             ],
             [
              0.8888888888888888,
              "#fdca26"
             ],
             [
              1,
              "#f0f921"
             ]
            ],
            "type": "contour"
           }
          ],
          "contourcarpet": [
           {
            "colorbar": {
             "outlinewidth": 0,
             "ticks": ""
            },
            "type": "contourcarpet"
           }
          ],
          "heatmap": [
           {
            "colorbar": {
             "outlinewidth": 0,
             "ticks": ""
            },
            "colorscale": [
             [
              0,
              "#0d0887"
             ],
             [
              0.1111111111111111,
              "#46039f"
             ],
             [
              0.2222222222222222,
              "#7201a8"
             ],
             [
              0.3333333333333333,
              "#9c179e"
             ],
             [
              0.4444444444444444,
              "#bd3786"
             ],
             [
              0.5555555555555556,
              "#d8576b"
             ],
             [
              0.6666666666666666,
              "#ed7953"
             ],
             [
              0.7777777777777778,
              "#fb9f3a"
             ],
             [
              0.8888888888888888,
              "#fdca26"
             ],
             [
              1,
              "#f0f921"
             ]
            ],
            "type": "heatmap"
           }
          ],
          "heatmapgl": [
           {
            "colorbar": {
             "outlinewidth": 0,
             "ticks": ""
            },
            "colorscale": [
             [
              0,
              "#0d0887"
             ],
             [
              0.1111111111111111,
              "#46039f"
             ],
             [
              0.2222222222222222,
              "#7201a8"
             ],
             [
              0.3333333333333333,
              "#9c179e"
             ],
             [
              0.4444444444444444,
              "#bd3786"
             ],
             [
              0.5555555555555556,
              "#d8576b"
             ],
             [
              0.6666666666666666,
              "#ed7953"
             ],
             [
              0.7777777777777778,
              "#fb9f3a"
             ],
             [
              0.8888888888888888,
              "#fdca26"
             ],
             [
              1,
              "#f0f921"
             ]
            ],
            "type": "heatmapgl"
           }
          ],
          "histogram": [
           {
            "marker": {
             "pattern": {
              "fillmode": "overlay",
              "size": 10,
              "solidity": 0.2
             }
            },
            "type": "histogram"
           }
          ],
          "histogram2d": [
           {
            "colorbar": {
             "outlinewidth": 0,
             "ticks": ""
            },
            "colorscale": [
             [
              0,
              "#0d0887"
             ],
             [
              0.1111111111111111,
              "#46039f"
             ],
             [
              0.2222222222222222,
              "#7201a8"
             ],
             [
              0.3333333333333333,
              "#9c179e"
             ],
             [
              0.4444444444444444,
              "#bd3786"
             ],
             [
              0.5555555555555556,
              "#d8576b"
             ],
             [
              0.6666666666666666,
              "#ed7953"
             ],
             [
              0.7777777777777778,
              "#fb9f3a"
             ],
             [
              0.8888888888888888,
              "#fdca26"
             ],
             [
              1,
              "#f0f921"
             ]
            ],
            "type": "histogram2d"
           }
          ],
          "histogram2dcontour": [
           {
            "colorbar": {
             "outlinewidth": 0,
             "ticks": ""
            },
            "colorscale": [
             [
              0,
              "#0d0887"
             ],
             [
              0.1111111111111111,
              "#46039f"
             ],
             [
              0.2222222222222222,
              "#7201a8"
             ],
             [
              0.3333333333333333,
              "#9c179e"
             ],
             [
              0.4444444444444444,
              "#bd3786"
             ],
             [
              0.5555555555555556,
              "#d8576b"
             ],
             [
              0.6666666666666666,
              "#ed7953"
             ],
             [
              0.7777777777777778,
              "#fb9f3a"
             ],
             [
              0.8888888888888888,
              "#fdca26"
             ],
             [
              1,
              "#f0f921"
             ]
            ],
            "type": "histogram2dcontour"
           }
          ],
          "mesh3d": [
           {
            "colorbar": {
             "outlinewidth": 0,
             "ticks": ""
            },
            "type": "mesh3d"
           }
          ],
          "parcoords": [
           {
            "line": {
             "colorbar": {
              "outlinewidth": 0,
              "ticks": ""
             }
            },
            "type": "parcoords"
           }
          ],
          "pie": [
           {
            "automargin": true,
            "type": "pie"
           }
          ],
          "scatter": [
           {
            "fillpattern": {
             "fillmode": "overlay",
             "size": 10,
             "solidity": 0.2
            },
            "type": "scatter"
           }
          ],
          "scatter3d": [
           {
            "line": {
             "colorbar": {
              "outlinewidth": 0,
              "ticks": ""
             }
            },
            "marker": {
             "colorbar": {
              "outlinewidth": 0,
              "ticks": ""
             }
            },
            "type": "scatter3d"
           }
          ],
          "scattercarpet": [
           {
            "marker": {
             "colorbar": {
              "outlinewidth": 0,
              "ticks": ""
             }
            },
            "type": "scattercarpet"
           }
          ],
          "scattergeo": [
           {
            "marker": {
             "colorbar": {
              "outlinewidth": 0,
              "ticks": ""
             }
            },
            "type": "scattergeo"
           }
          ],
          "scattergl": [
           {
            "marker": {
             "colorbar": {
              "outlinewidth": 0,
              "ticks": ""
             }
            },
            "type": "scattergl"
           }
          ],
          "scattermapbox": [
           {
            "marker": {
             "colorbar": {
              "outlinewidth": 0,
              "ticks": ""
             }
            },
            "type": "scattermapbox"
           }
          ],
          "scatterpolar": [
           {
            "marker": {
             "colorbar": {
              "outlinewidth": 0,
              "ticks": ""
             }
            },
            "type": "scatterpolar"
           }
          ],
          "scatterpolargl": [
           {
            "marker": {
             "colorbar": {
              "outlinewidth": 0,
              "ticks": ""
             }
            },
            "type": "scatterpolargl"
           }
          ],
          "scatterternary": [
           {
            "marker": {
             "colorbar": {
              "outlinewidth": 0,
              "ticks": ""
             }
            },
            "type": "scatterternary"
           }
          ],
          "surface": [
           {
            "colorbar": {
             "outlinewidth": 0,
             "ticks": ""
            },
            "colorscale": [
             [
              0,
              "#0d0887"
             ],
             [
              0.1111111111111111,
              "#46039f"
             ],
             [
              0.2222222222222222,
              "#7201a8"
             ],
             [
              0.3333333333333333,
              "#9c179e"
             ],
             [
              0.4444444444444444,
              "#bd3786"
             ],
             [
              0.5555555555555556,
              "#d8576b"
             ],
             [
              0.6666666666666666,
              "#ed7953"
             ],
             [
              0.7777777777777778,
              "#fb9f3a"
             ],
             [
              0.8888888888888888,
              "#fdca26"
             ],
             [
              1,
              "#f0f921"
             ]
            ],
            "type": "surface"
           }
          ],
          "table": [
           {
            "cells": {
             "fill": {
              "color": "#EBF0F8"
             },
             "line": {
              "color": "white"
             }
            },
            "header": {
             "fill": {
              "color": "#C8D4E3"
             },
             "line": {
              "color": "white"
             }
            },
            "type": "table"
           }
          ]
         },
         "layout": {
          "annotationdefaults": {
           "arrowcolor": "#2a3f5f",
           "arrowhead": 0,
           "arrowwidth": 1
          },
          "autotypenumbers": "strict",
          "coloraxis": {
           "colorbar": {
            "outlinewidth": 0,
            "ticks": ""
           }
          },
          "colorscale": {
           "diverging": [
            [
             0,
             "#8e0152"
            ],
            [
             0.1,
             "#c51b7d"
            ],
            [
             0.2,
             "#de77ae"
            ],
            [
             0.3,
             "#f1b6da"
            ],
            [
             0.4,
             "#fde0ef"
            ],
            [
             0.5,
             "#f7f7f7"
            ],
            [
             0.6,
             "#e6f5d0"
            ],
            [
             0.7,
             "#b8e186"
            ],
            [
             0.8,
             "#7fbc41"
            ],
            [
             0.9,
             "#4d9221"
            ],
            [
             1,
             "#276419"
            ]
           ],
           "sequential": [
            [
             0,
             "#0d0887"
            ],
            [
             0.1111111111111111,
             "#46039f"
            ],
            [
             0.2222222222222222,
             "#7201a8"
            ],
            [
             0.3333333333333333,
             "#9c179e"
            ],
            [
             0.4444444444444444,
             "#bd3786"
            ],
            [
             0.5555555555555556,
             "#d8576b"
            ],
            [
             0.6666666666666666,
             "#ed7953"
            ],
            [
             0.7777777777777778,
             "#fb9f3a"
            ],
            [
             0.8888888888888888,
             "#fdca26"
            ],
            [
             1,
             "#f0f921"
            ]
           ],
           "sequentialminus": [
            [
             0,
             "#0d0887"
            ],
            [
             0.1111111111111111,
             "#46039f"
            ],
            [
             0.2222222222222222,
             "#7201a8"
            ],
            [
             0.3333333333333333,
             "#9c179e"
            ],
            [
             0.4444444444444444,
             "#bd3786"
            ],
            [
             0.5555555555555556,
             "#d8576b"
            ],
            [
             0.6666666666666666,
             "#ed7953"
            ],
            [
             0.7777777777777778,
             "#fb9f3a"
            ],
            [
             0.8888888888888888,
             "#fdca26"
            ],
            [
             1,
             "#f0f921"
            ]
           ]
          },
          "colorway": [
           "#636efa",
           "#EF553B",
           "#00cc96",
           "#ab63fa",
           "#FFA15A",
           "#19d3f3",
           "#FF6692",
           "#B6E880",
           "#FF97FF",
           "#FECB52"
          ],
          "font": {
           "color": "#2a3f5f"
          },
          "geo": {
           "bgcolor": "white",
           "lakecolor": "white",
           "landcolor": "#E5ECF6",
           "showlakes": true,
           "showland": true,
           "subunitcolor": "white"
          },
          "hoverlabel": {
           "align": "left"
          },
          "hovermode": "closest",
          "mapbox": {
           "style": "light"
          },
          "paper_bgcolor": "white",
          "plot_bgcolor": "#E5ECF6",
          "polar": {
           "angularaxis": {
            "gridcolor": "white",
            "linecolor": "white",
            "ticks": ""
           },
           "bgcolor": "#E5ECF6",
           "radialaxis": {
            "gridcolor": "white",
            "linecolor": "white",
            "ticks": ""
           }
          },
          "scene": {
           "xaxis": {
            "backgroundcolor": "#E5ECF6",
            "gridcolor": "white",
            "gridwidth": 2,
            "linecolor": "white",
            "showbackground": true,
            "ticks": "",
            "zerolinecolor": "white"
           },
           "yaxis": {
            "backgroundcolor": "#E5ECF6",
            "gridcolor": "white",
            "gridwidth": 2,
            "linecolor": "white",
            "showbackground": true,
            "ticks": "",
            "zerolinecolor": "white"
           },
           "zaxis": {
            "backgroundcolor": "#E5ECF6",
            "gridcolor": "white",
            "gridwidth": 2,
            "linecolor": "white",
            "showbackground": true,
            "ticks": "",
            "zerolinecolor": "white"
           }
          },
          "shapedefaults": {
           "line": {
            "color": "#2a3f5f"
           }
          },
          "ternary": {
           "aaxis": {
            "gridcolor": "white",
            "linecolor": "white",
            "ticks": ""
           },
           "baxis": {
            "gridcolor": "white",
            "linecolor": "white",
            "ticks": ""
           },
           "bgcolor": "#E5ECF6",
           "caxis": {
            "gridcolor": "white",
            "linecolor": "white",
            "ticks": ""
           }
          },
          "title": {
           "x": 0.05
          },
          "xaxis": {
           "automargin": true,
           "gridcolor": "white",
           "linecolor": "white",
           "ticks": "",
           "title": {
            "standoff": 15
           },
           "zerolinecolor": "white",
           "zerolinewidth": 2
          },
          "yaxis": {
           "automargin": true,
           "gridcolor": "white",
           "linecolor": "white",
           "ticks": "",
           "title": {
            "standoff": 15
           },
           "zerolinecolor": "white",
           "zerolinewidth": 2
          }
         }
        },
        "title": {
         "text": "Highest & Lowest Attendence Sessions"
        },
        "xaxis": {
         "anchor": "y",
         "domain": [
          0,
          1
         ],
         "title": {
          "text": "Date"
         }
        },
        "yaxis": {
         "anchor": "x",
         "domain": [
          0,
          1
         ],
         "title": {
          "text": "Members"
         }
        }
       }
      }
     },
     "metadata": {},
     "output_type": "display_data"
    }
   ],
   "source": [
    "fig = px.scatter(highest_lowest, x=\"Date\", y=\"Members\",title='Highest & Lowest Attendence Sessions')\n",
    "fig.show()"
   ]
  },
  {
   "cell_type": "markdown",
   "metadata": {},
   "source": [
    "Top 10 & Bottom 10 Attendence Members comparison"
   ]
  },
  {
   "cell_type": "code",
   "execution_count": 155,
   "metadata": {},
   "outputs": [
    {
     "data": {
      "text/html": [
       "<div>\n",
       "<style scoped>\n",
       "    .dataframe tbody tr th:only-of-type {\n",
       "        vertical-align: middle;\n",
       "    }\n",
       "\n",
       "    .dataframe tbody tr th {\n",
       "        vertical-align: top;\n",
       "    }\n",
       "\n",
       "    .dataframe thead th {\n",
       "        text-align: right;\n",
       "    }\n",
       "</style>\n",
       "<table border=\"1\" class=\"dataframe\">\n",
       "  <thead>\n",
       "    <tr style=\"text-align: right;\">\n",
       "      <th></th>\n",
       "      <th>Member</th>\n",
       "      <th>Count</th>\n",
       "    </tr>\n",
       "  </thead>\n",
       "  <tbody>\n",
       "    <tr>\n",
       "      <th>0</th>\n",
       "      <td>muhammad amjad farooq khan khosa</td>\n",
       "      <td>300</td>\n",
       "    </tr>\n",
       "    <tr>\n",
       "      <th>1</th>\n",
       "      <td>nawabzada iftakhar ahmed khan babar</td>\n",
       "      <td>300</td>\n",
       "    </tr>\n",
       "    <tr>\n",
       "      <th>2</th>\n",
       "      <td>begum tahira bukhari</td>\n",
       "      <td>299</td>\n",
       "    </tr>\n",
       "    <tr>\n",
       "      <th>3</th>\n",
       "      <td>uzma riaz</td>\n",
       "      <td>298</td>\n",
       "    </tr>\n",
       "    <tr>\n",
       "      <th>4</th>\n",
       "      <td>mussarat rafique mahesar</td>\n",
       "      <td>295</td>\n",
       "    </tr>\n",
       "    <tr>\n",
       "      <th>5</th>\n",
       "      <td>ali muhammad khan</td>\n",
       "      <td>295</td>\n",
       "    </tr>\n",
       "    <tr>\n",
       "      <th>6</th>\n",
       "      <td>junaid akbar</td>\n",
       "      <td>293</td>\n",
       "    </tr>\n",
       "    <tr>\n",
       "      <th>7</th>\n",
       "      <td>shamim ara panhwar</td>\n",
       "      <td>289</td>\n",
       "    </tr>\n",
       "    <tr>\n",
       "      <th>8</th>\n",
       "      <td>nisar ahmad cheema</td>\n",
       "      <td>288</td>\n",
       "    </tr>\n",
       "    <tr>\n",
       "      <th>9</th>\n",
       "      <td>gul dad khan</td>\n",
       "      <td>288</td>\n",
       "    </tr>\n",
       "  </tbody>\n",
       "</table>\n",
       "</div>"
      ],
      "text/plain": [
       "                                Member  Count\n",
       "0     muhammad amjad farooq khan khosa    300\n",
       "1  nawabzada iftakhar ahmed khan babar    300\n",
       "2                 begum tahira bukhari    299\n",
       "3                            uzma riaz    298\n",
       "4             mussarat rafique mahesar    295\n",
       "5                    ali muhammad khan    295\n",
       "6                         junaid akbar    293\n",
       "7                   shamim ara panhwar    289\n",
       "8                   nisar ahmad cheema    288\n",
       "9                         gul dad khan    288"
      ]
     },
     "execution_count": 155,
     "metadata": {},
     "output_type": "execute_result"
    }
   ],
   "source": [
    "most_attendence_member = df.Name.value_counts()[:10].reset_index()\n",
    "most_attendence_member.columns = ['Member', 'Count']\n",
    "most_attendence_member "
   ]
  },
  {
   "cell_type": "code",
   "execution_count": 156,
   "metadata": {},
   "outputs": [],
   "source": [
    "most_attendence_member = df.groupby(['Name','Party'])['Date'].count().reset_index()\n",
    "most_attendence_member = most_attendence_member.sort_values(by=['Date'], ascending=False)\n",
    "most_attendence_member = most_attendence_member.rename(columns={'Date': 'Attendence'})\n",
    "most_attendence_member = most_attendence_member[:10]"
   ]
  },
  {
   "cell_type": "code",
   "execution_count": 157,
   "metadata": {},
   "outputs": [],
   "source": [
    "least_attendence_member = df.groupby(['Name','Party'])['Date'].count().reset_index()\n",
    "least_attendence_member = least_attendence_member.sort_values(by=['Date'], ascending=False)\n",
    "least_attendence_member = least_attendence_member.rename(columns={'Date': 'Attendence'})\n",
    "least_attendence_member = least_attendence_member[-10:]"
   ]
  },
  {
   "cell_type": "code",
   "execution_count": 158,
   "metadata": {},
   "outputs": [
    {
     "data": {
      "text/html": [
       "<div>\n",
       "<style scoped>\n",
       "    .dataframe tbody tr th:only-of-type {\n",
       "        vertical-align: middle;\n",
       "    }\n",
       "\n",
       "    .dataframe tbody tr th {\n",
       "        vertical-align: top;\n",
       "    }\n",
       "\n",
       "    .dataframe thead th {\n",
       "        text-align: right;\n",
       "    }\n",
       "</style>\n",
       "<table border=\"1\" class=\"dataframe\">\n",
       "  <thead>\n",
       "    <tr style=\"text-align: right;\">\n",
       "      <th></th>\n",
       "      <th>Name</th>\n",
       "      <th>Party</th>\n",
       "      <th>Attendence</th>\n",
       "    </tr>\n",
       "  </thead>\n",
       "  <tbody>\n",
       "    <tr>\n",
       "      <th>149</th>\n",
       "      <td>muhammad amjad farooq khan khosa</td>\n",
       "      <td>PTI</td>\n",
       "      <td>238</td>\n",
       "    </tr>\n",
       "    <tr>\n",
       "      <th>202</th>\n",
       "      <td>nawabzada iftakhar ahmed khan babar</td>\n",
       "      <td>PPPP</td>\n",
       "      <td>237</td>\n",
       "    </tr>\n",
       "    <tr>\n",
       "      <th>332</th>\n",
       "      <td>uzma riaz</td>\n",
       "      <td>PTI</td>\n",
       "      <td>236</td>\n",
       "    </tr>\n",
       "    <tr>\n",
       "      <th>48</th>\n",
       "      <td>begum tahira bukhari</td>\n",
       "      <td>PML-N</td>\n",
       "      <td>235</td>\n",
       "    </tr>\n",
       "    <tr>\n",
       "      <th>25</th>\n",
       "      <td>ali muhammad khan</td>\n",
       "      <td>PTI</td>\n",
       "      <td>234</td>\n",
       "    </tr>\n",
       "    <tr>\n",
       "      <th>187</th>\n",
       "      <td>mussarat rafique mahesar</td>\n",
       "      <td>PPPP</td>\n",
       "      <td>232</td>\n",
       "    </tr>\n",
       "    <tr>\n",
       "      <th>90</th>\n",
       "      <td>junaid akbar</td>\n",
       "      <td>PTI</td>\n",
       "      <td>232</td>\n",
       "    </tr>\n",
       "    <tr>\n",
       "      <th>68</th>\n",
       "      <td>gul dad khan</td>\n",
       "      <td>PTI</td>\n",
       "      <td>231</td>\n",
       "    </tr>\n",
       "    <tr>\n",
       "      <th>206</th>\n",
       "      <td>nisar ahmad cheema</td>\n",
       "      <td>PML-N</td>\n",
       "      <td>231</td>\n",
       "    </tr>\n",
       "    <tr>\n",
       "      <th>284</th>\n",
       "      <td>shamim ara panhwar</td>\n",
       "      <td>PPPP</td>\n",
       "      <td>228</td>\n",
       "    </tr>\n",
       "    <tr>\n",
       "      <th>52</th>\n",
       "      <td>ehsan ul haq bajwa</td>\n",
       "      <td>PML-N</td>\n",
       "      <td>40</td>\n",
       "    </tr>\n",
       "    <tr>\n",
       "      <th>156</th>\n",
       "      <td>muhammad faisal vawda</td>\n",
       "      <td>PTI</td>\n",
       "      <td>40</td>\n",
       "    </tr>\n",
       "    <tr>\n",
       "      <th>152</th>\n",
       "      <td>muhammad asim nazir</td>\n",
       "      <td>PTI</td>\n",
       "      <td>36</td>\n",
       "    </tr>\n",
       "    <tr>\n",
       "      <th>266</th>\n",
       "      <td>sardar muhammad bux khan mahar</td>\n",
       "      <td>PPPP</td>\n",
       "      <td>36</td>\n",
       "    </tr>\n",
       "    <tr>\n",
       "      <th>4</th>\n",
       "      <td>abdul majeed khan</td>\n",
       "      <td>PTI</td>\n",
       "      <td>32</td>\n",
       "    </tr>\n",
       "    <tr>\n",
       "      <th>77</th>\n",
       "      <td>imran khan</td>\n",
       "      <td>PTI</td>\n",
       "      <td>31</td>\n",
       "    </tr>\n",
       "    <tr>\n",
       "      <th>1</th>\n",
       "      <td>aamir hussain</td>\n",
       "      <td>PTI</td>\n",
       "      <td>29</td>\n",
       "    </tr>\n",
       "    <tr>\n",
       "      <th>41</th>\n",
       "      <td>asif ali zardari</td>\n",
       "      <td>PPPP</td>\n",
       "      <td>25</td>\n",
       "    </tr>\n",
       "    <tr>\n",
       "      <th>114</th>\n",
       "      <td>makhdoom jameel uz zaman</td>\n",
       "      <td>PPPP</td>\n",
       "      <td>24</td>\n",
       "    </tr>\n",
       "    <tr>\n",
       "      <th>343</th>\n",
       "      <td>zulfiqar ali bhatti</td>\n",
       "      <td>PML-N</td>\n",
       "      <td>13</td>\n",
       "    </tr>\n",
       "  </tbody>\n",
       "</table>\n",
       "</div>"
      ],
      "text/plain": [
       "                                    Name  Party  Attendence\n",
       "149     muhammad amjad farooq khan khosa    PTI         238\n",
       "202  nawabzada iftakhar ahmed khan babar   PPPP         237\n",
       "332                            uzma riaz    PTI         236\n",
       "48                  begum tahira bukhari  PML-N         235\n",
       "25                     ali muhammad khan    PTI         234\n",
       "187             mussarat rafique mahesar   PPPP         232\n",
       "90                          junaid akbar    PTI         232\n",
       "68                          gul dad khan    PTI         231\n",
       "206                   nisar ahmad cheema  PML-N         231\n",
       "284                   shamim ara panhwar   PPPP         228\n",
       "52                    ehsan ul haq bajwa  PML-N          40\n",
       "156                muhammad faisal vawda    PTI          40\n",
       "152                  muhammad asim nazir    PTI          36\n",
       "266       sardar muhammad bux khan mahar   PPPP          36\n",
       "4                      abdul majeed khan    PTI          32\n",
       "77                            imran khan    PTI          31\n",
       "1                          aamir hussain    PTI          29\n",
       "41                      asif ali zardari   PPPP          25\n",
       "114             makhdoom jameel uz zaman   PPPP          24\n",
       "343                  zulfiqar ali bhatti  PML-N          13"
      ]
     },
     "execution_count": 158,
     "metadata": {},
     "output_type": "execute_result"
    }
   ],
   "source": [
    "import pandas as pd\n",
    "\n",
    "highest_lowest_members = pd.concat([most_attendence_member, least_attendence_member])\n",
    "\n",
    "highest_lowest_members[:25]\n"
   ]
  },
  {
   "cell_type": "code",
   "execution_count": 159,
   "metadata": {},
   "outputs": [
    {
     "data": {
      "image/png": "[encoded data removed]",
      "text/plain": [
       "<Figure size 1700x1000 with 1 Axes>"
      ]
     },
     "metadata": {},
     "output_type": "display_data"
    }
   ],
   "source": [
    "fig, ax = plt.subplots(figsize=(17, 10))\n",
    "\n",
    "ax = sns.barplot(data =highest_lowest_members , x='Attendence', y='Name', hue='Party', \n",
    "                 dodge=False, ax=ax, palette='turbo')\n",
    "for bars_group in ax.containers:\n",
    "    ax.bar_label(bars_group, padding=3, fontsize=15)\n",
    "ax.legend(bbox_to_anchor=(1, .5), loc='center left')\n",
    "plt.tight_layout()\n",
    "plt.show()"
   ]
  },
  {
   "cell_type": "markdown",
   "metadata": {},
   "source": [
    "More plots for further insights"
   ]
  },
  {
   "cell_type": "code",
   "execution_count": 160,
   "metadata": {},
   "outputs": [
    {
     "data": {
      "image/png": "[encoded data removed]",
      "text/plain": [
       "<Figure size 1500x600 with 1 Axes>"
      ]
     },
     "metadata": {},
     "output_type": "display_data"
    },
    {
     "name": "stdout",
     "output_type": "stream",
     "text": [
      "\n",
      "\n",
      "\n"
     ]
    },
    {
     "data": {
      "image/png": "[encoded data removed]",
      "text/plain": [
       "<Figure size 1500x600 with 1 Axes>"
      ]
     },
     "metadata": {},
     "output_type": "display_data"
    },
    {
     "name": "stdout",
     "output_type": "stream",
     "text": [
      "\n",
      "\n",
      "\n"
     ]
    },
    {
     "data": {
      "image/png": "[encoded data removed]",
      "text/plain": [
       "<Figure size 1500x600 with 1 Axes>"
      ]
     },
     "metadata": {},
     "output_type": "display_data"
    },
    {
     "name": "stdout",
     "output_type": "stream",
     "text": [
      "\n",
      "\n",
      "\n"
     ]
    }
   ],
   "source": [
    "colors = ['BuGn','Blues','Wistia']\n",
    "groupby_list = ['Constituency Type','Province','Party']\n",
    "for j,i in zip(colors,groupby_list):\n",
    "            df_column = df.groupby(i)['Name'].nunique().reset_index()\n",
    "            df_column['Expected_Attendence'] = df_column.apply(lambda row: row['Name']*308, axis=1)\n",
    "            df_column_actual = df.groupby(i)['Name'].count().reset_index()\n",
    "            result = pd.merge(df_column, df_column_actual, on=i)\n",
    "            result['Percentage'] = result.apply(lambda row: round(row['Name_y']/row['Expected_Attendence']*100,1), axis=1)\n",
    "            result = result.sort_values('Percentage')\n",
    "        #   print(result)\n",
    "            f, ax = plt.subplots(figsize = (15,6))\n",
    "            p = sns.barplot(x = i,y = 'Percentage',data = result[-15:],palette =j, ci= 20 )\n",
    "            p.set_xlabel(i+str(\" wise\"),fontsize=22)\n",
    "            p.set_ylabel('Presence %',fontsize=20)\n",
    "            for i in p.containers:\n",
    "                p.bar_label(i)\n",
    "            plt.xticks(rotation=45) \n",
    "            plt.ylim((0, 100)) \n",
    "            plt.show() \n",
    "            print(\"\\n\\n\") "
   ]
  },
  {
   "cell_type": "markdown",
   "metadata": {},
   "source": [
    "Top 15 Cities & Constituencies wrt attendence"
   ]
  },
  {
   "cell_type": "code",
   "execution_count": 161,
   "metadata": {},
   "outputs": [
    {
     "data": {
      "image/png": "[encoded data removed]",
      "text/plain": [
       "<Figure size 1500x600 with 1 Axes>"
      ]
     },
     "metadata": {},
     "output_type": "display_data"
    },
    {
     "name": "stdout",
     "output_type": "stream",
     "text": [
      "\n",
      "\n",
      "\n"
     ]
    },
    {
     "data": {
      "image/png": "[encoded data removed]",
      "text/plain": [
       "<Figure size 1500x600 with 1 Axes>"
      ]
     },
     "metadata": {},
     "output_type": "display_data"
    },
    {
     "name": "stdout",
     "output_type": "stream",
     "text": [
      "\n",
      "\n",
      "\n"
     ]
    }
   ],
   "source": [
    "colors = ['plasma','PuBuGn']\n",
    "groupby_list = ['City','Constituency']\n",
    "for j,i in zip(colors,groupby_list):\n",
    "            df_column = df.groupby(i)['Name'].nunique().reset_index()\n",
    "            df_column['Expected_Attendence'] = df_column.apply(lambda row: row['Name']*308, axis=1)\n",
    "            df_column_actual = df.groupby(i)['Name'].count().reset_index()\n",
    "            result = pd.merge(df_column, df_column_actual, on=i)\n",
    "            result['Percentage'] = result.apply(lambda row: round(row['Name_y']/row['Expected_Attendence']*100,1), axis=1)\n",
    "            result = result.sort_values('Percentage')\n",
    "        #   print(result)\n",
    "            f, ax = plt.subplots(figsize = (15,6))\n",
    "            p = sns.barplot(x = i,y = 'Percentage',data = result[-15:],palette =j, ci= 20 )\n",
    "            p.set_xlabel(i+str(\" wise\"),fontsize=25)\n",
    "            p.set_ylabel('Presence %',fontsize=20)\n",
    "            for i in p.containers:\n",
    "                p.bar_label(i)\n",
    "            plt.xticks(rotation=45)\n",
    "            plt.ylim((0, 100))\n",
    "            plt.show() \n",
    "            print(\"\\n\\n\")"
   ]
  },
  {
   "cell_type": "markdown",
   "metadata": {},
   "source": [
    "Bottom 15 Cities & Constituencies wrt attendence"
   ]
  },
  {
   "cell_type": "code",
   "execution_count": 162,
   "metadata": {},
   "outputs": [
    {
     "data": {
      "image/png": "[encoded data removed]",
      "text/plain": [
       "<Figure size 1500x600 with 1 Axes>"
      ]
     },
     "metadata": {},
     "output_type": "display_data"
    },
    {
     "data": {
      "image/png": "[encoded data removed]",
      "text/plain": [
       "<Figure size 1500x600 with 1 Axes>"
      ]
     },
     "metadata": {},
     "output_type": "display_data"
    }
   ],
   "source": [
    "colors = ['YlGn','RdYlBu']\n",
    "groupby_list = ['City','Constituency']\n",
    "for j,i in zip(colors,groupby_list):\n",
    "            df_column = df.groupby(i)['Name'].nunique().reset_index()\n",
    "            df_column['Expected_Attendence'] = df_column.apply(lambda row: row['Name']*308, axis=1)\n",
    "            df_column_actual = df.groupby(i)['Name'].count().reset_index()\n",
    "            result = pd.merge(df_column, df_column_actual, on=i)\n",
    "            result['Percentage'] = result.apply(lambda row: round(row['Name_y']/row['Expected_Attendence']*100,1), axis=1)\n",
    "            result = result.sort_values('Percentage')\n",
    "            f, ax = plt.subplots(figsize = (15,6))\n",
    "            p = sns.barplot(x = i,y = 'Percentage',data = result[:15],palette =j, ci= None )\n",
    "            p.set_xlabel(i+str(\" wise\"),fontsize=25)\n",
    "            p.set_ylabel('Presence %',fontsize=20)\n",
    "            for i in p.containers:\n",
    "                    ax.bar_label(i,)\n",
    "            plt.xticks(rotation=45)\n",
    "            plt.ylim((0, 100))\n",
    "            plt.show() "
   ]
  },
  {
   "cell_type": "markdown",
   "metadata": {},
   "source": [
    "Sessions per year"
   ]
  },
  {
   "cell_type": "code",
   "execution_count": 163,
   "metadata": {},
   "outputs": [
    {
     "data": {
      "text/plain": [
       "[Text(0.5, 1.0, 'Number of session per year')]"
      ]
     },
     "execution_count": 163,
     "metadata": {},
     "output_type": "execute_result"
    },
    {
     "data": {
      "image/png": "[encoded data removed]",
      "text/plain": [
       "<Figure size 1500x1000 with 1 Axes>"
      ]
     },
     "metadata": {},
     "output_type": "display_data"
    }
   ],
   "source": [
    "df_year = df.groupby('Date')['Name'].unique().reset_index()\n",
    "df_year['year'] = df_year['Date'].dt.year\n",
    "sns.countplot(x = df_year['year']).set(title='Number of session per year')"
   ]
  },
  {
   "cell_type": "markdown",
   "metadata": {},
   "source": [
    "Average number of members in all session grouped by few fields"
   ]
  },
  {
   "cell_type": "code",
   "execution_count": 164,
   "metadata": {},
   "outputs": [
    {
     "data": {
      "text/plain": [
       "(0.0, 308.0)"
      ]
     },
     "execution_count": 164,
     "metadata": {},
     "output_type": "execute_result"
    },
    {
     "data": {
      "image/png": "[encoded data removed]",
      "text/plain": [
       "<Figure size 1512.22x500 with 1 Axes>"
      ]
     },
     "metadata": {},
     "output_type": "display_data"
    }
   ],
   "source": [
    "df_month = df.groupby('Date')['Name'].unique().reset_index()\n",
    "df_month['Number of Members'] = df_month['Name'].apply(lambda x: len(x))\n",
    "df_month['Month'] = df_month.Date.dt.month\n",
    "df_month = df_month.groupby('Month')['Number of Members'].mean().reset_index()\n",
    "df_month['Number of Members'] = df_month['Number of Members'].round(1)\n",
    "df_month\n",
    "sns.catplot(x='Month', y=\"Number of Members\", data=df_month,height=5 , \n",
    "            aspect = 3, s=50, color='Blue').set(title='Average presence of members month wise from 2018-08-13 till 2022-04-10')\n",
    "plt.ylim((0, 308))"
   ]
  },
  {
   "cell_type": "code",
   "execution_count": 165,
   "metadata": {},
   "outputs": [
    {
     "data": {
      "text/plain": [
       "(0.0, 308.0)"
      ]
     },
     "execution_count": 165,
     "metadata": {},
     "output_type": "execute_result"
    },
    {
     "data": {
      "image/png": "[encoded data removed]",
      "text/plain": [
       "<Figure size 1512.22x500 with 1 Axes>"
      ]
     },
     "metadata": {},
     "output_type": "display_data"
    }
   ],
   "source": [
    "df_day = df.groupby('Date')['Name'].unique().reset_index()\n",
    "df_day['Number of Members'] = df_day['Name'].apply(lambda x: len(x))\n",
    "df_day['Day'] = df_day.Date.dt.day\n",
    "df_day = df_day.groupby('Day')['Number of Members'].mean().reset_index()\n",
    "df_day['Number of Members'] = df_day['Number of Members'].round(1)\n",
    "df_day\n",
    "sns.catplot(x='Day', y=\"Number of Members\", data=df_day,height=5 , aspect = 3, s=50, \n",
    "            color='Red').set(title='Average presence of members day wise from 2018-08-13 till 2022-04-10')\n",
    "\n",
    "plt.ylim((0, 308))"
   ]
  },
  {
   "cell_type": "code",
   "execution_count": 166,
   "metadata": {},
   "outputs": [
    {
     "data": {
      "text/plain": [
       "(0.0, 308.0)"
      ]
     },
     "execution_count": 166,
     "metadata": {},
     "output_type": "execute_result"
    },
    {
     "data": {
      "image/png": "[encoded data removed]",
      "text/plain": [
       "<Figure size 1512.22x500 with 1 Axes>"
      ]
     },
     "metadata": {},
     "output_type": "display_data"
    }
   ],
   "source": [
    "day_name = df.groupby('Date')['Name'].unique().reset_index()\n",
    "day_name['Number of Members'] = day_name['Name'].apply(lambda x: len(x))\n",
    "day_name['day_name'] = day_name.Date.dt.day_name()\n",
    "day_name = day_name.groupby('day_name')['Number of Members'].mean().reset_index()\n",
    "day_name['Number of Members'] = day_name['Number of Members'].round(1)\n",
    "#day_name\n",
    "sns.catplot(x='day_name', y=\"Number of Members\", data=day_name,height=5 , \n",
    "            aspect = 3, s=50, color='Purple').set(title='Average presence of members weekday wise from 2018-08-13 till 2022-04-10')\n",
    "plt.ylim((0, 308))"
   ]
  },
  {
   "cell_type": "markdown",
   "metadata": {},
   "source": [
    "More stats"
   ]
  },
  {
   "cell_type": "code",
   "execution_count": 167,
   "metadata": {},
   "outputs": [
    {
     "data": {
      "application/vnd.plotly.v1+json": {
       "config": {
        "plotlyServerURL": "https://plot.ly"
       },
       "data": [
        {
         "alignmentgroup": "True",
         "hovertemplate": "Name=%{x}<br>Date=%{y}<extra></extra>",
         "legendgroup": "",
         "marker": {
          "color": "#636efa",
          "pattern": {
           "shape": ""
          }
         },
         "name": "",
         "offsetgroup": "",
         "orientation": "h",
         "showlegend": false,
         "textposition": "auto",
         "type": "bar",
         "x": [
          333,
          331,
          330,
          326,
          326,
          324,
          323,
          320,
          318,
          318,
          317,
          301,
          300,
          299,
          299,
          298,
          297,
          296,
          295,
          295,
          290,
          289,
          287,
          286,
          285,
          284,
          282,
          281,
          281,
          280,
          278,
          278,
          278,
          277,
          276,
          275,
          274,
          274,
          272,
          272,
          272,
          271,
          271,
          271,
          271,
          270,
          270,
          270,
          269,
          268,
          268,
          268,
          267,
          266,
          266,
          265,
          265,
          264,
          263,
          263,
          261,
          261,
          261,
          260,
          260,
          259,
          259,
          258,
          258,
          257,
          257,
          257,
          257,
          255,
          254,
          254,
          254,
          254,
          253,
          253,
          252,
          252,
          251,
          251,
          249,
          249,
          249,
          249,
          248,
          248,
          247,
          247,
          246,
          246,
          245,
          245,
          244,
          243,
          242,
          242,
          240,
          240,
          240,
          239,
          239,
          239,
          238,
          238,
          238,
          237,
          236,
          235,
          235,
          234,
          234,
          234,
          234,
          233,
          233,
          232,
          232,
          231,
          231,
          231,
          231,
          231,
          230,
          230,
          229,
          228,
          227,
          226,
          226,
          226,
          225,
          225,
          224,
          224,
          224,
          224,
          224,
          224,
          219,
          219,
          219,
          218,
          217,
          217,
          216,
          215,
          215,
          215,
          214,
          214,
          214,
          213,
          213,
          213,
          212,
          211,
          209,
          209,
          209,
          208,
          208,
          207,
          207,
          206,
          206,
          205,
          205,
          205,
          205,
          204,
          204,
          204,
          203,
          202,
          202,
          201,
          201,
          201,
          200,
          199,
          199,
          199,
          198,
          198,
          197,
          196,
          196,
          195,
          195,
          195,
          194,
          192,
          192,
          190,
          190,
          190,
          189,
          188,
          188,
          188,
          187,
          187,
          185,
          185,
          183,
          182,
          182,
          181,
          180,
          180,
          175,
          174,
          174,
          174,
          174,
          172,
          172,
          172,
          171,
          169,
          167,
          166,
          166,
          164,
          162,
          162,
          162,
          161,
          155,
          154,
          151,
          145,
          145,
          142,
          137,
          121,
          109,
          105,
          87,
          81
         ],
         "xaxis": "x",
         "y": [
          "June 28, 2019",
          "November 17, 2021",
          "June 27, 2019",
          "June 26, 2019",
          "June 29, 2021",
          "August 15, 2018",
          "April 09, 2022",
          "January 13, 2022",
          "June 29, 2019",
          "June 30, 2021",
          "September 16, 2020",
          "June 25, 2019",
          "February 28, 2019",
          "August 06, 2020",
          "January 07, 2020",
          "June 11, 2021",
          "June 11, 2019",
          "June 28, 2021",
          "June 29, 2020",
          "September 17, 2018",
          "June 18, 2019",
          "May 09, 2019",
          "June 30, 2020",
          "June 17, 2021",
          "October 29, 2018",
          "September 14, 2020",
          "June 24, 2019",
          "June 25, 2021",
          "September 18, 2018",
          "June 15, 2021",
          "January 10, 2022",
          "December 30, 2021",
          "January 12, 2022",
          "February 14, 2020",
          "March 06, 2019",
          "December 04, 2019",
          "November 08, 2018",
          "June 26, 2021",
          "June 19, 2019",
          "February 20, 2019",
          "September 15, 2020",
          "March 05, 2019",
          "June 17, 2019",
          "September 12, 2019",
          "June 16, 2021",
          "May 13, 2019",
          "July 29, 2020",
          "June 20, 2019",
          "January 14, 2019",
          "June 07, 2021",
          "October 30, 2018",
          "January 16, 2019",
          "January 11, 2022",
          "June 10, 2021",
          "November 09, 2021",
          "November 07, 2018",
          "January 15, 2019",
          "March 25, 2022",
          "February 04, 2021",
          "February 26, 2019",
          "June 14, 2019",
          "December 12, 2018",
          "May 08, 2019",
          "March 28, 2022",
          "January 06, 2020",
          "March 11, 2020",
          "December 11, 2018",
          "August 12, 2020",
          "March 09, 2020",
          "June 18, 2021",
          "November 07, 2019",
          "January 24, 2019",
          "September 25, 2018",
          "September 27, 2018",
          "November 10, 2021",
          "December 10, 2018",
          "October 17, 2018",
          "April 24, 2019",
          "December 20, 2018",
          "January 15, 2020",
          "June 24, 2021",
          "July 27, 2020",
          "September 30, 2019",
          "August 20, 2020",
          "May 17, 2021",
          "February 13, 2020",
          "April 29, 2019",
          "September 24, 2018",
          "February 17, 2020",
          "September 13, 2019",
          "November 09, 2018",
          "June 10, 2019",
          "November 05, 2018",
          "August 11, 2020",
          "July 30, 2020",
          "September 26, 2018",
          "June 14, 2021",
          "August 06, 2019",
          "December 29, 2021",
          "August 10, 2020",
          "October 28, 2020",
          "September 13, 2021",
          "November 06, 2018",
          "December 17, 2018",
          "January 14, 2020",
          "May 10, 2019",
          "January 26, 2021",
          "December 05, 2019",
          "December 10, 2019",
          "February 12, 2020",
          "November 08, 2021",
          "October 29, 2020",
          "January 08, 2020",
          "March 04, 2019",
          "April 30, 2019",
          "March 10, 2020",
          "July 28, 2020",
          "December 13, 2018",
          "September 19, 2019",
          "January 30, 2020",
          "May 27, 2021",
          "November 16, 2021",
          "May 18, 2021",
          "September 17, 2020",
          "July 29, 2019",
          "November 08, 2019",
          "May 24, 2021",
          "September 29, 2021",
          "November 12, 2021",
          "June 08, 2021",
          "July 08, 2020",
          "January 10, 2020",
          "August 12, 2021",
          "October 20, 2020",
          "October 26, 2020",
          "May 28, 2021",
          "February 11, 2020",
          "May 11, 2020",
          "September 28, 2018",
          "January 25, 2019",
          "August 24, 2020",
          "January 14, 2022",
          "July 09, 2020",
          "February 19, 2021",
          "July 16, 2021",
          "August 08, 2019",
          "December 16, 2019",
          "April 25, 2019",
          "July 13, 2020",
          "May 28, 2019",
          "July 14, 2020",
          "September 17, 2019",
          "January 17, 2019",
          "January 09, 2020",
          "August 07, 2020",
          "July 24, 2020",
          "January 25, 2021",
          "March 04, 2021",
          "December 06, 2019",
          "March 29, 2021",
          "August 09, 2019",
          "November 14, 2019",
          "September 16, 2019",
          "November 15, 2021",
          "May 13, 2020",
          "June 27, 2020",
          "July 16, 2019",
          "February 10, 2020",
          "January 13, 2020",
          "May 24, 2019",
          "February 25, 2019",
          "December 09, 2019",
          "August 11, 2021",
          "November 15, 2019",
          "August 10, 2021",
          "June 25, 2020",
          "August 07, 2019",
          "September 20, 2021",
          "July 10, 2020",
          "June 08, 2020",
          "July 20, 2020",
          "July 16, 2020",
          "July 08, 2021",
          "November 19, 2021",
          "June 05, 2020",
          "May 27, 2019",
          "October 14, 2021",
          "February 04, 2020",
          "March 13, 2020",
          "June 24, 2020",
          "October 16, 2020",
          "May 15, 2020",
          "May 06, 2019",
          "April 10, 2022",
          "November 11, 2019",
          "April 26, 2019",
          "July 12, 2021",
          "April 19, 2021",
          "April 16, 2021",
          "October 15, 2021",
          "June 26, 2020",
          "July 14, 2021",
          "August 09, 2021",
          "February 06, 2020",
          "October 20, 2021",
          "June 12, 2020",
          "January 18, 2019",
          "January 29, 2021",
          "July 17, 2020",
          "February 07, 2020",
          "August 06, 2021",
          "March 06, 2021",
          "April 05, 2021",
          "July 13, 2021",
          "December 14, 2018",
          "September 17, 2021",
          "October 19, 2020",
          "February 26, 2021",
          "December 24, 2021",
          "November 05, 2021",
          "September 28, 2021",
          "June 10, 2020",
          "August 05, 2019",
          "June 16, 2020",
          "September 27, 2021",
          "July 09, 2021",
          "July 30, 2021",
          "December 13, 2019",
          "April 20, 2021",
          "June 17, 2020",
          "January 18, 2022",
          "January 19, 2022",
          "December 27, 2021",
          "June 15, 2020",
          "June 18, 2020",
          "June 11, 2020",
          "October 18, 2021",
          "June 19, 2020",
          "August 13, 2018",
          "June 19, 2021",
          "July 19, 2021",
          "January 17, 2022",
          "September 24, 2021",
          "August 17, 2018"
         ],
         "yaxis": "y"
        }
       ],
       "layout": {
        "barmode": "relative",
        "height": 8000,
        "legend": {
         "tracegroupgap": 0
        },
        "margin": {
         "t": 60
        },
        "template": {
         "data": {
          "bar": [
           {
            "error_x": {
             "color": "#2a3f5f"
            },
            "error_y": {
             "color": "#2a3f5f"
            },
            "marker": {
             "line": {
              "color": "#E5ECF6",
              "width": 0.5
             },
             "pattern": {
              "fillmode": "overlay",
              "size": 10,
              "solidity": 0.2
             }
            },
            "type": "bar"
           }
          ],
          "barpolar": [
           {
            "marker": {
             "line": {
              "color": "#E5ECF6",
              "width": 0.5
             },
             "pattern": {
              "fillmode": "overlay",
              "size": 10,
              "solidity": 0.2
             }
            },
            "type": "barpolar"
           }
          ],
          "carpet": [
           {
            "aaxis": {
             "endlinecolor": "#2a3f5f",
             "gridcolor": "white",
             "linecolor": "white",
             "minorgridcolor": "white",
             "startlinecolor": "#2a3f5f"
            },
            "baxis": {
             "endlinecolor": "#2a3f5f",
             "gridcolor": "white",
             "linecolor": "white",
             "minorgridcolor": "white",
             "startlinecolor": "#2a3f5f"
            },
            "type": "carpet"
           }
          ],
          "choropleth": [
           {
            "colorbar": {
             "outlinewidth": 0,
             "ticks": ""
            },
            "type": "choropleth"
           }
          ],
          "contour": [
           {
            "colorbar": {
             "outlinewidth": 0,
             "ticks": ""
            },
            "colorscale": [
             [
              0,
              "#0d0887"
             ],
             [
              0.1111111111111111,
              "#46039f"
             ],
             [
              0.2222222222222222,
              "#7201a8"
             ],
             [
              0.3333333333333333,
              "#9c179e"
             ],
             [
              0.4444444444444444,
              "#bd3786"
             ],
             [
              0.5555555555555556,
              "#d8576b"
             ],
             [
              0.6666666666666666,
              "#ed7953"
             ],
             [
              0.7777777777777778,
              "#fb9f3a"
             ],
             [
              0.8888888888888888,
              "#fdca26"
             ],
             [
              1,
              "#f0f921"
             ]
            ],
            "type": "contour"
           }
          ],
          "contourcarpet": [
           {
            "colorbar": {
             "outlinewidth": 0,
             "ticks": ""
            },
            "type": "contourcarpet"
           }
          ],
          "heatmap": [
           {
            "colorbar": {
             "outlinewidth": 0,
             "ticks": ""
            },
            "colorscale": [
             [
              0,
              "#0d0887"
             ],
             [
              0.1111111111111111,
              "#46039f"
             ],
             [
              0.2222222222222222,
              "#7201a8"
             ],
             [
              0.3333333333333333,
              "#9c179e"
             ],
             [
              0.4444444444444444,
              "#bd3786"
             ],
             [
              0.5555555555555556,
              "#d8576b"
             ],
             [
              0.6666666666666666,
              "#ed7953"
             ],
             [
              0.7777777777777778,
              "#fb9f3a"
             ],
             [
              0.8888888888888888,
              "#fdca26"
             ],
             [
              1,
              "#f0f921"
             ]
            ],
            "type": "heatmap"
           }
          ],
          "heatmapgl": [
           {
            "colorbar": {
             "outlinewidth": 0,
             "ticks": ""
            },
            "colorscale": [
             [
              0,
              "#0d0887"
             ],
             [
              0.1111111111111111,
              "#46039f"
             ],
             [
              0.2222222222222222,
              "#7201a8"
             ],
             [
              0.3333333333333333,
              "#9c179e"
             ],
             [
              0.4444444444444444,
              "#bd3786"
             ],
             [
              0.5555555555555556,
              "#d8576b"
             ],
             [
              0.6666666666666666,
              "#ed7953"
             ],
             [
              0.7777777777777778,
              "#fb9f3a"
             ],
             [
              0.8888888888888888,
              "#fdca26"
             ],
             [
              1,
              "#f0f921"
             ]
            ],
            "type": "heatmapgl"
           }
          ],
          "histogram": [
           {
            "marker": {
             "pattern": {
              "fillmode": "overlay",
              "size": 10,
              "solidity": 0.2
             }
            },
            "type": "histogram"
           }
          ],
          "histogram2d": [
           {
            "colorbar": {
             "outlinewidth": 0,
             "ticks": ""
            },
            "colorscale": [
             [
              0,
              "#0d0887"
             ],
             [
              0.1111111111111111,
              "#46039f"
             ],
             [
              0.2222222222222222,
              "#7201a8"
             ],
             [
              0.3333333333333333,
              "#9c179e"
             ],
             [
              0.4444444444444444,
              "#bd3786"
             ],
             [
              0.5555555555555556,
              "#d8576b"
             ],
             [
              0.6666666666666666,
              "#ed7953"
             ],
             [
              0.7777777777777778,
              "#fb9f3a"
             ],
             [
              0.8888888888888888,
              "#fdca26"
             ],
             [
              1,
              "#f0f921"
             ]
            ],
            "type": "histogram2d"
           }
          ],
          "histogram2dcontour": [
           {
            "colorbar": {
             "outlinewidth": 0,
             "ticks": ""
            },
            "colorscale": [
             [
              0,
              "#0d0887"
             ],
             [
              0.1111111111111111,
              "#46039f"
             ],
             [
              0.2222222222222222,
              "#7201a8"
             ],
             [
              0.3333333333333333,
              "#9c179e"
             ],
             [
              0.4444444444444444,
              "#bd3786"
             ],
             [
              0.5555555555555556,
              "#d8576b"
             ],
             [
              0.6666666666666666,
              "#ed7953"
             ],
             [
              0.7777777777777778,
              "#fb9f3a"
             ],
             [
              0.8888888888888888,
              "#fdca26"
             ],
             [
              1,
              "#f0f921"
             ]
            ],
            "type": "histogram2dcontour"
           }
          ],
          "mesh3d": [
           {
            "colorbar": {
             "outlinewidth": 0,
             "ticks": ""
            },
            "type": "mesh3d"
           }
          ],
          "parcoords": [
           {
            "line": {
             "colorbar": {
              "outlinewidth": 0,
              "ticks": ""
             }
            },
            "type": "parcoords"
           }
          ],
          "pie": [
           {
            "automargin": true,
            "type": "pie"
           }
          ],
          "scatter": [
           {
            "fillpattern": {
             "fillmode": "overlay",
             "size": 10,
             "solidity": 0.2
            },
            "type": "scatter"
           }
          ],
          "scatter3d": [
           {
            "line": {
             "colorbar": {
              "outlinewidth": 0,
              "ticks": ""
             }
            },
            "marker": {
             "colorbar": {
              "outlinewidth": 0,
              "ticks": ""
             }
            },
            "type": "scatter3d"
           }
          ],
          "scattercarpet": [
           {
            "marker": {
             "colorbar": {
              "outlinewidth": 0,
              "ticks": ""
             }
            },
            "type": "scattercarpet"
           }
          ],
          "scattergeo": [
           {
            "marker": {
             "colorbar": {
              "outlinewidth": 0,
              "ticks": ""
             }
            },
            "type": "scattergeo"
           }
          ],
          "scattergl": [
           {
            "marker": {
             "colorbar": {
              "outlinewidth": 0,
              "ticks": ""
             }
            },
            "type": "scattergl"
           }
          ],
          "scattermapbox": [
           {
            "marker": {
             "colorbar": {
              "outlinewidth": 0,
              "ticks": ""
             }
            },
            "type": "scattermapbox"
           }
          ],
          "scatterpolar": [
           {
            "marker": {
             "colorbar": {
              "outlinewidth": 0,
              "ticks": ""
             }
            },
            "type": "scatterpolar"
           }
          ],
          "scatterpolargl": [
           {
            "marker": {
             "colorbar": {
              "outlinewidth": 0,
              "ticks": ""
             }
            },
            "type": "scatterpolargl"
           }
          ],
          "scatterternary": [
           {
            "marker": {
             "colorbar": {
              "outlinewidth": 0,
              "ticks": ""
             }
            },
            "type": "scatterternary"
           }
          ],
          "surface": [
           {
            "colorbar": {
             "outlinewidth": 0,
             "ticks": ""
            },
            "colorscale": [
             [
              0,
              "#0d0887"
             ],
             [
              0.1111111111111111,
              "#46039f"
             ],
             [
              0.2222222222222222,
              "#7201a8"
             ],
             [
              0.3333333333333333,
              "#9c179e"
             ],
             [
              0.4444444444444444,
              "#bd3786"
             ],
             [
              0.5555555555555556,
              "#d8576b"
             ],
             [
              0.6666666666666666,
              "#ed7953"
             ],
             [
              0.7777777777777778,
              "#fb9f3a"
             ],
             [
              0.8888888888888888,
              "#fdca26"
             ],
             [
              1,
              "#f0f921"
             ]
            ],
            "type": "surface"
           }
          ],
          "table": [
           {
            "cells": {
             "fill": {
              "color": "#EBF0F8"
             },
             "line": {
              "color": "white"
             }
            },
            "header": {
             "fill": {
              "color": "#C8D4E3"
             },
             "line": {
              "color": "white"
             }
            },
            "type": "table"
           }
          ]
         },
         "layout": {
          "annotationdefaults": {
           "arrowcolor": "#2a3f5f",
           "arrowhead": 0,
           "arrowwidth": 1
          },
          "autotypenumbers": "strict",
          "coloraxis": {
           "colorbar": {
            "outlinewidth": 0,
            "ticks": ""
           }
          },
          "colorscale": {
           "diverging": [
            [
             0,
             "#8e0152"
            ],
            [
             0.1,
             "#c51b7d"
            ],
            [
             0.2,
             "#de77ae"
            ],
            [
             0.3,
             "#f1b6da"
            ],
            [
             0.4,
             "#fde0ef"
            ],
            [
             0.5,
             "#f7f7f7"
            ],
            [
             0.6,
             "#e6f5d0"
            ],
            [
             0.7,
             "#b8e186"
            ],
            [
             0.8,
             "#7fbc41"
            ],
            [
             0.9,
             "#4d9221"
            ],
            [
             1,
             "#276419"
            ]
           ],
           "sequential": [
            [
             0,
             "#0d0887"
            ],
            [
             0.1111111111111111,
             "#46039f"
            ],
            [
             0.2222222222222222,
             "#7201a8"
            ],
            [
             0.3333333333333333,
             "#9c179e"
            ],
            [
             0.4444444444444444,
             "#bd3786"
            ],
            [
             0.5555555555555556,
             "#d8576b"
            ],
            [
             0.6666666666666666,
             "#ed7953"
            ],
            [
             0.7777777777777778,
             "#fb9f3a"
            ],
            [
             0.8888888888888888,
             "#fdca26"
            ],
            [
             1,
             "#f0f921"
            ]
           ],
           "sequentialminus": [
            [
             0,
             "#0d0887"
            ],
            [
             0.1111111111111111,
             "#46039f"
            ],
            [
             0.2222222222222222,
             "#7201a8"
            ],
            [
             0.3333333333333333,
             "#9c179e"
            ],
            [
             0.4444444444444444,
             "#bd3786"
            ],
            [
             0.5555555555555556,
             "#d8576b"
            ],
            [
             0.6666666666666666,
             "#ed7953"
            ],
            [
             0.7777777777777778,
             "#fb9f3a"
            ],
            [
             0.8888888888888888,
             "#fdca26"
            ],
            [
             1,
             "#f0f921"
            ]
           ]
          },
          "colorway": [
           "#636efa",
           "#EF553B",
           "#00cc96",
           "#ab63fa",
           "#FFA15A",
           "#19d3f3",
           "#FF6692",
           "#B6E880",
           "#FF97FF",
           "#FECB52"
          ],
          "font": {
           "color": "#2a3f5f"
          },
          "geo": {
           "bgcolor": "white",
           "lakecolor": "white",
           "landcolor": "#E5ECF6",
           "showlakes": true,
           "showland": true,
           "subunitcolor": "white"
          },
          "hoverlabel": {
           "align": "left"
          },
          "hovermode": "closest",
          "mapbox": {
           "style": "light"
          },
          "paper_bgcolor": "white",
          "plot_bgcolor": "#E5ECF6",
          "polar": {
           "angularaxis": {
            "gridcolor": "white",
            "linecolor": "white",
            "ticks": ""
           },
           "bgcolor": "#E5ECF6",
           "radialaxis": {
            "gridcolor": "white",
            "linecolor": "white",
            "ticks": ""
           }
          },
          "scene": {
           "xaxis": {
            "backgroundcolor": "#E5ECF6",
            "gridcolor": "white",
            "gridwidth": 2,
            "linecolor": "white",
            "showbackground": true,
            "ticks": "",
            "zerolinecolor": "white"
           },
           "yaxis": {
            "backgroundcolor": "#E5ECF6",
            "gridcolor": "white",
            "gridwidth": 2,
            "linecolor": "white",
            "showbackground": true,
            "ticks": "",
            "zerolinecolor": "white"
           },
           "zaxis": {
            "backgroundcolor": "#E5ECF6",
            "gridcolor": "white",
            "gridwidth": 2,
            "linecolor": "white",
            "showbackground": true,
            "ticks": "",
            "zerolinecolor": "white"
           }
          },
          "shapedefaults": {
           "line": {
            "color": "#2a3f5f"
           }
          },
          "ternary": {
           "aaxis": {
            "gridcolor": "white",
            "linecolor": "white",
            "ticks": ""
           },
           "baxis": {
            "gridcolor": "white",
            "linecolor": "white",
            "ticks": ""
           },
           "bgcolor": "#E5ECF6",
           "caxis": {
            "gridcolor": "white",
            "linecolor": "white",
            "ticks": ""
           }
          },
          "title": {
           "x": 0.05
          },
          "xaxis": {
           "automargin": true,
           "gridcolor": "white",
           "linecolor": "white",
           "ticks": "",
           "title": {
            "standoff": 15
           },
           "zerolinecolor": "white",
           "zerolinewidth": 2
          },
          "yaxis": {
           "automargin": true,
           "gridcolor": "white",
           "linecolor": "white",
           "ticks": "",
           "title": {
            "standoff": 15
           },
           "zerolinecolor": "white",
           "zerolinewidth": 2
          }
         }
        },
        "xaxis": {
         "anchor": "y",
         "domain": [
          0,
          1
         ],
         "title": {
          "text": "Name"
         }
        },
        "yaxis": {
         "anchor": "x",
         "domain": [
          0,
          1
         ],
         "title": {
          "text": "Date"
         }
        }
       }
      }
     },
     "metadata": {},
     "output_type": "display_data"
    }
   ],
   "source": [
    "date_wise_members = df.groupby('Date')['Name'].count().reset_index()\n",
    "date_wise_members = date_wise_members.sort_values(by=['Name'], ascending=False)\n",
    "date_wise_members = date_wise_members[['Date','Name']].reset_index(drop=True)\n",
    "date_wise_members['Date'] = date_wise_members['Date'].dt.strftime('%B %d, %Y')\n",
    "px.bar(date_wise_members, x='Name', y='Date',height=8000)"
   ]
  },
  {
   "cell_type": "code",
   "execution_count": 168,
   "metadata": {},
   "outputs": [
    {
     "data": {
      "application/vnd.plotly.v1+json": {
       "config": {
        "plotlyServerURL": "https://plot.ly"
       },
       "data": [
        {
         "alignmentgroup": "True",
         "hovertemplate": "Attendence=%{x}<br>Name=%{y}<extra></extra>",
         "legendgroup": "",
         "marker": {
          "color": "#636efa",
          "pattern": {
           "shape": ""
          }
         },
         "name": "",
         "offsetgroup": "",
         "orientation": "h",
         "showlegend": false,
         "textposition": "auto",
         "type": "bar",
         "x": [
          77.3,
          76.9,
          76.6,
          76.3,
          76,
          75.3,
          75.3,
          75,
          75,
          74,
          74,
          73.7,
          73.7,
          73.7,
          73.4,
          73.4,
          73.1,
          73.1,
          72.7,
          72.7,
          72.7,
          72.7,
          72.4,
          72.4,
          72.4,
          72.4,
          72.4,
          71.8,
          71.8,
          71.4,
          71.1,
          71.1,
          71.1,
          71.1,
          71.1,
          70.8,
          70.8,
          70.5,
          70.5,
          70.1,
          70.1,
          69.8,
          69.8,
          69.8,
          69.8,
          69.8,
          69.5,
          69.5,
          69.2,
          69.2,
          69.2,
          69.2,
          69.2,
          69.2,
          68.8,
          68.8,
          68.8,
          68.8,
          68.5,
          68.5,
          68.2,
          68.2,
          67.9,
          67.9,
          67.9,
          67.9,
          67.5,
          67.5,
          67.5,
          67.2,
          67.2,
          67.2,
          67.2,
          67.2,
          66.9,
          66.9,
          66.9,
          66.9,
          66.6,
          66.6,
          66.2,
          66.2,
          66.2,
          66.2,
          66.2,
          65.9,
          65.3,
          65.3,
          65.3,
          64.9,
          64.6,
          64.6,
          64.6,
          64.6,
          64.6,
          64.6,
          64.3,
          64.3,
          64.3,
          64.3,
          64,
          64,
          64,
          63.6,
          63.6,
          63.6,
          63.3,
          63.3,
          63.3,
          63.3,
          63.3,
          63,
          63,
          63,
          63,
          62.7,
          62.7,
          62.7,
          62.7,
          62.3,
          62.3,
          62.3,
          62.3,
          62.3,
          62,
          62,
          62,
          62,
          61.7,
          61.7,
          61.7,
          61.7,
          61.7,
          61.4,
          61.4,
          61.4,
          61,
          61,
          60.7,
          60.7,
          60.7,
          60.4,
          60.1,
          60.1,
          60.1,
          60.1,
          60.1,
          59.7,
          59.7,
          59.4,
          59.4,
          59.4,
          59.4,
          59.1,
          59.1,
          59.1,
          58.8,
          58.8,
          58.4,
          58.4,
          58.1,
          57.8,
          57.8,
          57.5,
          57.5,
          57.5,
          57.5,
          57.5,
          57.1,
          57.1,
          57.1,
          56.8,
          56.8,
          56.8,
          56.5,
          56.5,
          56.5,
          56.2,
          56.2,
          56.2,
          56.2,
          56.2,
          55.8,
          55.8,
          55.8,
          55.5,
          55.2,
          55.2,
          55.2,
          54.9,
          54.9,
          54.9,
          54.5,
          54.5,
          54.2,
          54.2,
          54.2,
          53.9,
          53.9,
          53.9,
          53.6,
          53.6,
          53.6,
          53.2,
          52.9,
          52.9,
          52.6,
          52.3,
          52.3,
          52.3,
          51.9,
          51.9,
          51.6,
          51,
          50.6,
          50.6,
          50.6,
          50.3,
          50.3,
          50.3,
          50.3,
          50,
          49.7,
          49.4,
          49.4,
          48.7,
          48.7,
          48.7,
          48.4,
          48.1,
          48.1,
          47.7,
          47.4,
          46.8,
          46.8,
          46.8,
          46.4,
          46.4,
          46.4,
          46.1,
          45.8,
          45.5,
          44.8,
          44.5,
          44.5,
          44.2,
          44.2,
          43.8,
          43.8,
          43.5,
          43.2,
          42.9,
          42.9,
          42.5,
          42.2,
          41.9,
          41.9,
          41.2,
          41.2,
          41.2,
          41.2,
          41.2,
          41.2,
          40.9,
          40.9,
          40.3,
          39.9,
          39.9,
          39.6,
          39.6,
          39.6,
          39.3,
          39,
          39,
          38.3,
          38.3,
          38.3,
          38,
          38,
          37,
          37,
          36.7,
          36.4,
          36.4,
          36.4,
          36,
          36,
          36,
          35.7,
          35.7,
          35.4,
          35.1,
          34.7,
          34.1,
          33.8,
          33.8,
          33.1,
          33.1,
          32.8,
          32.5,
          32.5,
          31.8,
          31.2,
          31.2,
          30.8,
          30.8,
          29.9,
          29.5,
          28.9,
          28.9,
          28.6,
          27.3,
          26.9,
          26.9,
          26.6,
          25.6,
          25.3,
          25,
          24.4,
          24,
          24,
          23.1,
          22.7,
          21.8,
          21.4,
          21.1,
          20.1,
          18.8,
          17.9,
          17.5,
          16.9,
          16.6,
          16.2,
          14.9,
          14.6,
          13.6,
          13,
          13,
          11.7,
          11.7,
          10.4,
          10.1,
          9.4,
          8.1,
          7.8,
          4.2
         ],
         "xaxis": "x",
         "y": [
          "muhammad amjad farooq khan khosa",
          "nawabzada iftakhar ahmed khan babar",
          "uzma riaz",
          "begum tahira bukhari",
          "ali muhammad khan",
          "mussarat rafique mahesar",
          "junaid akbar",
          "gul dad khan",
          "nisar ahmad cheema",
          "shamim ara panhwar",
          "wajiha qamar",
          "sajida begum",
          "rana shamim ahmed khan",
          "muhammad sajjad",
          "nafeesa inayatullah khan khattak",
          "mrs. shahida akhtar ali",
          "mehboob shah",
          "saif ur rehman",
          "moulana abdul akbar chitrali",
          "nadeem abbas",
          "romina khurshid alam",
          "usman ibrahim",
          "abdul shakoor shad",
          "amjad ali khan",
          "malik anwar taj",
          "nasiba channa",
          "shaheen naz saifullah",
          "aliya hamza malik",
          "mukhtar ahmad malik",
          "attaullah",
          "zahra wadood fatemi",
          "sobia kamal khan",
          "prince muhammad nawaz allai",
          "ali nawaz awan",
          "tahira aurangzeb",
          "asma qadeer",
          "shazia sobia aslam soomro",
          "syma nadeem",
          "usama qadri",
          "zille huma",
          "fauzia behram",
          "sher akbar khan",
          "muhammad khan daha",
          "mir khan muhammad jamali",
          "mahesh kumar malani",
          "murtaza javed abbasi",
          "choudhary faqir ahmad",
          "nausheen hamid",
          "waheed alam khan",
          "munawara bibi baloch",
          "shahida  rehmani",
          "sheikh rashid shafique",
          "mehnaz akber aziz",
          "imran khattak",
          "aftab jehangir",
          "naveed aamir jeeva",
          "ali zahid",
          "aliya kamran",
          "nuzhat pathan",
          "naz baloch",
          "malik karamat ali khokhar",
          "nusrat wahid",
          "kesoo mal kheeal das",
          "azhar qayyum nahra",
          "sadaqat ali khan",
          "muhammad hamid hameed",
          "mahreen razzaq bhutto",
          "sahibzada sibghatullah",
          "zulfiqar ali bhindar",
          "noor alam khan",
          "sajid khan",
          "naureen farooq ibrahim",
          "munaza hassan",
          "jamil ahmed khan",
          "faheem khan",
          "syed mehmood shah",
          "sheikh fayyaz ud din",
          "ghazala saifi",
          "malik muhammad amir dogar",
          "syed agha rafiullah",
          "najeeb ud din awaisi",
          "muhammad bashir khan",
          "rukhsana naveed",
          "darshan",
          "kanwal shauzab",
          "seema mohiuddin jameeli",
          "lal chand",
          "tashfeen safdar",
          "rana mubashir iqbal",
          "syed faiz ul hassan",
          "muhammad ameer sultan",
          "riaz hussain pirzada",
          "rasheed ahmad khan",
          "syed javed hasnain",
          "sardar zulfiqar ali khan dullah",
          "shunila ruth",
          "shandana gulzar khan",
          "mahmood bashir virk",
          "shams un nisa",
          "gul zafar khan",
          "syed naveed qamar",
          "abdul shakoor",
          "shahid ahmad",
          "sajid mehdi",
          "muhammad ibrahim khan",
          "saleem rehman",
          "raja pervez ashraf",
          "kamal uddin",
          "samina matloob",
          "muhammad barjees tahir",
          "rana iradat sharif khan",
          "shazia marri",
          "raja khurram shahzad nawaz",
          "muhammad junaid anwar chaudhry",
          "murad saeed",
          "niaz ahmed jakhar",
          "aisha ghaus pasha",
          "tahir iqbal",
          "andleeb abbas",
          "usman khan tarakai",
          "muhammad akram cheema",
          "javed iqbal warraich",
          "kiran imran dar",
          "muhammad iqbal khan",
          "sabir hussain kaim khani",
          "syed hussain tariq",
          "rubina jamil",
          "sheikh rohale asghar",
          "syed fakhar imam",
          "shaukat ali",
          "rana tanveer hussain",
          "ramesh lal",
          "ahmad raza maneka",
          "jamshed thomas",
          "sardar riaz mehmood khan mazari",
          "abdul qadir patel",
          "salahuddin",
          "sikandar ali rahoupoto",
          "agha hassan baloch",
          "khursheed ahmed junejo",
          "aysha rajab ali",
          "shoukat ali bhatti",
          "maiza hameed",
          "haji imtiaz ahmed choudhary",
          "nasir khan musazai",
          "malik muhammad ehsan ullah tiwana",
          "zulfiqar bachani",
          "afreen khan",
          "aftab shahban mirani",
          "mohsin nawaz ranjha",
          "khawja sheraz mehmood",
          "muhammad mueen wattoo",
          "mohsin dawar",
          "shaza fatima khawaja",
          "rai muhammad murtaza iqbal",
          "ahsan iqbal",
          "faiz ullah",
          "zahid akram durrani",
          "muhammad shafiq",
          "makhdoom syed sami ul hassan gillani",
          "irfan ali laghari",
          "khurram dastgir khan",
          "muhammad sana ullah khan masti khel",
          "nafisa shah",
          "shireen m. mazari",
          "umar aslam khan",
          "zaib jaffar",
          "armaghan subhani",
          "khawaja muhammad asif",
          "maleeka ali bokhari",
          "ghulam sarwar khan",
          "muhammad abdul ghafar wattoo",
          "khalid hussain magsi",
          "ali gohar khan",
          "salahuddin ayubi",
          "ali khan jadoon",
          "shagufta jumani",
          "muhammad jamal ud din",
          "saleh muhammad",
          "naveed dero",
          "muhammad qasim khan suri",
          "mujahid ali",
          "mohammad aslam bhootani",
          "muhammad hashim notezai",
          "omar ayub khan",
          "zartaj gul",
          "iqbal muhammad ali khan",
          "syed abrar ali shah",
          "muhammad anwar",
          "maryam aurangzaib",
          "muhammad alamgir khan",
          "asmatullah",
          "ramesh kumar vankwani",
          "jai parkash",
          "shahnaz saleem malik",
          "abid raza",
          "riaz ul haq",
          "asad qaiser",
          "muhammad afzal khokhar",
          "sardar talib hassan nakai",
          "rana sana ullah khan",
          "mahar irshad ahmad khan",
          "zulfiqar ali behan",
          "sardar ayaz sadiq",
          "rana muhammad qasim noon",
          "rao muhammad ajmal khan",
          "saira bano",
          "nasir iqbal bosal",
          "aurangzeb khan khichi",
          "rahat aman ullah bhatti",
          "sardar muhammad irfan dogar",
          "farrukh habib",
          "shaista pervaiz",
          "noor-ul-haq qadri",
          "ehsan ur rehman mazari",
          "khurram shahzad",
          "khalid javed",
          "muhammad farooq azam malik",
          "nawab sher",
          "fazal muhammad khan",
          "pir syed fazal ali shah jillani",
          "shafqat mahmood",
          "sher ali arbab",
          "muhammad yaqoob shaikh",
          "asad mahmood",
          "muhammad ashraf",
          "tariq bashir cheema",
          "kishwar zehra",
          "javaria zafar aheer",
          "muhammad afzal khan dhandla",
          "riaz fatyana",
          "ghous bux khan mahar",
          "mir ghulam ali talpur",
          "tahir sadiq",
          "shahid khaqan abbasi",
          "muhammad aslam khan",
          "rana muhammad ishaq khan",
          "syed imran ahmad shah",
          "sahibzada muhammad mehboob sultan",
          "mehar ghulam muhammad lali",
          "saad waseem",
          "seemi bukhari",
          "ali pervaiz",
          "prof. shahnaz baloch",
          "shehryar afridi",
          "javed latif",
          "syed javed ali shah jillani",
          "makhdoom zain hussain qureshi",
          "malik sohail khan",
          "musarrat asif khawaja",
          "pervez khattak",
          "muhammad riaz",
          "ehsanullah reki",
          "rubina irfan",
          "muhammad shabbir ali",
          "sajid hussain turi",
          "nauman islam shaikh",
          "sardar nasrullah khan dreshak",
          "haider ali khan",
          "qaiser ahmed sheikh",
          "aamer mehmood kiani",
          "syed ghulam mustafa shah",
          "abdul wasay",
          "jam abdul karim bijar",
          "asad umer",
          "rafique ahmed jamali",
          "mrs. farukh khan",
          "muhammad israr tareen",
          "fawad ahmed",
          "raza rabani khar",
          "ibadullah khan",
          "aamir talal gopang",
          "hina rabbani khar",
          "zahoor hussain qureshi",
          "abid hussain bhayo",
          "muhammad soomro",
          "khial zaman",
          "sardar muhammad khan laghari",
          "mohammad pervaiz malik",
          "syed ali haider zaidi",
          "fehmida mirza",
          "nawab muhammad yousuf talpur",
          "zubaida jalal",
          "syed iftikhar ul hassan",
          "iftikhar nazir",
          "ijaz ahmad shah",
          "muhammad hammad azhar",
          "syed amin ul haque",
          "syed mobeen ahmed",
          "noor ul hassan tanvir",
          "khawaja saad rafique",
          "raja riaz ahmad",
          "arbab amir ayub",
          "muhammad shahbaz babar",
          "jawad hussain",
          "makhdoom shah mahmood hussain qureshi",
          "makhdoom khusro bukhtiar",
          "ali wazir",
          "ali nawaz shah",
          "syed mustafa mahmud",
          "aftab hussain siddique",
          "ali amin khan",
          "abdul rehman kanju",
          "syed ayaz ali shah sheerazi",
          "syed murtaza mahmud",
          "mir amer ali khan magsi",
          "nawabzada shazain bugti",
          "muhammad najeeb haroon",
          "mansoor hayat khan",
          "mir munawar ali talpur",
          "munir khan orakzai",
          "james iqbal",
          "raza nasrullah",
          "farrukh altaf",
          "ahmed hussain deharr",
          "ghulam bibi bharwana",
          "bilawal bhutto zardari",
          "pir noor muhammad shah jillani",
          "sheikh rashid ahmed",
          "syed khursheed ahmed shah",
          "khalid maqbool siddiqui",
          "muhammad shehbaz sharif",
          "roshanuddin junejo",
          "aamir sultan cheema",
          "khalid ahmed khan lund",
          "amir haider azam khan",
          "sardar muhammad jaffar khan leghari",
          "moonis elahi",
          "salik hussain",
          "fakhar zaman khan",
          "hussain elahi",
          "makhdom basit bokhari",
          "qadir khan mandokhail",
          "alam dad laleka",
          "muhammad akhtar mengal",
          "pir ameer ali shah jeelani",
          "ehsan ul haq bajwa",
          "muhammad faisal vawda",
          "muhammad asim nazir",
          "sardar muhammad bux khan mahar",
          "abdul majeed khan",
          "imran khan",
          "aamir hussain",
          "asif ali zardari",
          "makhdoom jameel uz zaman",
          "zulfiqar ali bhatti"
         ],
         "yaxis": "y"
        }
       ],
       "layout": {
        "barmode": "relative",
        "height": 8000,
        "legend": {
         "tracegroupgap": 0
        },
        "margin": {
         "t": 60
        },
        "template": {
         "data": {
          "bar": [
           {
            "error_x": {
             "color": "#2a3f5f"
            },
            "error_y": {
             "color": "#2a3f5f"
            },
            "marker": {
             "line": {
              "color": "#E5ECF6",
              "width": 0.5
             },
             "pattern": {
              "fillmode": "overlay",
              "size": 10,
              "solidity": 0.2
             }
            },
            "type": "bar"
           }
          ],
          "barpolar": [
           {
            "marker": {
             "line": {
              "color": "#E5ECF6",
              "width": 0.5
             },
             "pattern": {
              "fillmode": "overlay",
              "size": 10,
              "solidity": 0.2
             }
            },
            "type": "barpolar"
           }
          ],
          "carpet": [
           {
            "aaxis": {
             "endlinecolor": "#2a3f5f",
             "gridcolor": "white",
             "linecolor": "white",
             "minorgridcolor": "white",
             "startlinecolor": "#2a3f5f"
            },
            "baxis": {
             "endlinecolor": "#2a3f5f",
             "gridcolor": "white",
             "linecolor": "white",
             "minorgridcolor": "white",
             "startlinecolor": "#2a3f5f"
            },
            "type": "carpet"
           }
          ],
          "choropleth": [
           {
            "colorbar": {
             "outlinewidth": 0,
             "ticks": ""
            },
            "type": "choropleth"
           }
          ],
          "contour": [
           {
            "colorbar": {
             "outlinewidth": 0,
             "ticks": ""
            },
            "colorscale": [
             [
              0,
              "#0d0887"
             ],
             [
              0.1111111111111111,
              "#46039f"
             ],
             [
              0.2222222222222222,
              "#7201a8"
             ],
             [
              0.3333333333333333,
              "#9c179e"
             ],
             [
              0.4444444444444444,
              "#bd3786"
             ],
             [
              0.5555555555555556,
              "#d8576b"
             ],
             [
              0.6666666666666666,
              "#ed7953"
             ],
             [
              0.7777777777777778,
              "#fb9f3a"
             ],
             [
              0.8888888888888888,
              "#fdca26"
             ],
             [
              1,
              "#f0f921"
             ]
            ],
            "type": "contour"
           }
          ],
          "contourcarpet": [
           {
            "colorbar": {
             "outlinewidth": 0,
             "ticks": ""
            },
            "type": "contourcarpet"
           }
          ],
          "heatmap": [
           {
            "colorbar": {
             "outlinewidth": 0,
             "ticks": ""
            },
            "colorscale": [
             [
              0,
              "#0d0887"
             ],
             [
              0.1111111111111111,
              "#46039f"
             ],
             [
              0.2222222222222222,
              "#7201a8"
             ],
             [
              0.3333333333333333,
              "#9c179e"
             ],
             [
              0.4444444444444444,
              "#bd3786"
             ],
             [
              0.5555555555555556,
              "#d8576b"
             ],
             [
              0.6666666666666666,
              "#ed7953"
             ],
             [
              0.7777777777777778,
              "#fb9f3a"
             ],
             [
              0.8888888888888888,
              "#fdca26"
             ],
             [
              1,
              "#f0f921"
             ]
            ],
            "type": "heatmap"
           }
          ],
          "heatmapgl": [
           {
            "colorbar": {
             "outlinewidth": 0,
             "ticks": ""
            },
            "colorscale": [
             [
              0,
              "#0d0887"
             ],
             [
              0.1111111111111111,
              "#46039f"
             ],
             [
              0.2222222222222222,
              "#7201a8"
             ],
             [
              0.3333333333333333,
              "#9c179e"
             ],
             [
              0.4444444444444444,
              "#bd3786"
             ],
             [
              0.5555555555555556,
              "#d8576b"
             ],
             [
              0.6666666666666666,
              "#ed7953"
             ],
             [
              0.7777777777777778,
              "#fb9f3a"
             ],
             [
              0.8888888888888888,
              "#fdca26"
             ],
             [
              1,
              "#f0f921"
             ]
            ],
            "type": "heatmapgl"
           }
          ],
          "histogram": [
           {
            "marker": {
             "pattern": {
              "fillmode": "overlay",
              "size": 10,
              "solidity": 0.2
             }
            },
            "type": "histogram"
           }
          ],
          "histogram2d": [
           {
            "colorbar": {
             "outlinewidth": 0,
             "ticks": ""
            },
            "colorscale": [
             [
              0,
              "#0d0887"
             ],
             [
              0.1111111111111111,
              "#46039f"
             ],
             [
              0.2222222222222222,
              "#7201a8"
             ],
             [
              0.3333333333333333,
              "#9c179e"
             ],
             [
              0.4444444444444444,
              "#bd3786"
             ],
             [
              0.5555555555555556,
              "#d8576b"
             ],
             [
              0.6666666666666666,
              "#ed7953"
             ],
             [
              0.7777777777777778,
              "#fb9f3a"
             ],
             [
              0.8888888888888888,
              "#fdca26"
             ],
             [
              1,
              "#f0f921"
             ]
            ],
            "type": "histogram2d"
           }
          ],
          "histogram2dcontour": [
           {
            "colorbar": {
             "outlinewidth": 0,
             "ticks": ""
            },
            "colorscale": [
             [
              0,
              "#0d0887"
             ],
             [
              0.1111111111111111,
              "#46039f"
             ],
             [
              0.2222222222222222,
              "#7201a8"
             ],
             [
              0.3333333333333333,
              "#9c179e"
             ],
             [
              0.4444444444444444,
              "#bd3786"
             ],
             [
              0.5555555555555556,
              "#d8576b"
             ],
             [
              0.6666666666666666,
              "#ed7953"
             ],
             [
              0.7777777777777778,
              "#fb9f3a"
             ],
             [
              0.8888888888888888,
              "#fdca26"
             ],
             [
              1,
              "#f0f921"
             ]
            ],
            "type": "histogram2dcontour"
           }
          ],
          "mesh3d": [
           {
            "colorbar": {
             "outlinewidth": 0,
             "ticks": ""
            },
            "type": "mesh3d"
           }
          ],
          "parcoords": [
           {
            "line": {
             "colorbar": {
              "outlinewidth": 0,
              "ticks": ""
             }
            },
            "type": "parcoords"
           }
          ],
          "pie": [
           {
            "automargin": true,
            "type": "pie"
           }
          ],
          "scatter": [
           {
            "fillpattern": {
             "fillmode": "overlay",
             "size": 10,
             "solidity": 0.2
            },
            "type": "scatter"
           }
          ],
          "scatter3d": [
           {
            "line": {
             "colorbar": {
              "outlinewidth": 0,
              "ticks": ""
             }
            },
            "marker": {
             "colorbar": {
              "outlinewidth": 0,
              "ticks": ""
             }
            },
            "type": "scatter3d"
           }
          ],
          "scattercarpet": [
           {
            "marker": {
             "colorbar": {
              "outlinewidth": 0,
              "ticks": ""
             }
            },
            "type": "scattercarpet"
           }
          ],
          "scattergeo": [
           {
            "marker": {
             "colorbar": {
              "outlinewidth": 0,
              "ticks": ""
             }
            },
            "type": "scattergeo"
           }
          ],
          "scattergl": [
           {
            "marker": {
             "colorbar": {
              "outlinewidth": 0,
              "ticks": ""
             }
            },
            "type": "scattergl"
           }
          ],
          "scattermapbox": [
           {
            "marker": {
             "colorbar": {
              "outlinewidth": 0,
              "ticks": ""
             }
            },
            "type": "scattermapbox"
           }
          ],
          "scatterpolar": [
           {
            "marker": {
             "colorbar": {
              "outlinewidth": 0,
              "ticks": ""
             }
            },
            "type": "scatterpolar"
           }
          ],
          "scatterpolargl": [
           {
            "marker": {
             "colorbar": {
              "outlinewidth": 0,
              "ticks": ""
             }
            },
            "type": "scatterpolargl"
           }
          ],
          "scatterternary": [
           {
            "marker": {
             "colorbar": {
              "outlinewidth": 0,
              "ticks": ""
             }
            },
            "type": "scatterternary"
           }
          ],
          "surface": [
           {
            "colorbar": {
             "outlinewidth": 0,
             "ticks": ""
            },
            "colorscale": [
             [
              0,
              "#0d0887"
             ],
             [
              0.1111111111111111,
              "#46039f"
             ],
             [
              0.2222222222222222,
              "#7201a8"
             ],
             [
              0.3333333333333333,
              "#9c179e"
             ],
             [
              0.4444444444444444,
              "#bd3786"
             ],
             [
              0.5555555555555556,
              "#d8576b"
             ],
             [
              0.6666666666666666,
              "#ed7953"
             ],
             [
              0.7777777777777778,
              "#fb9f3a"
             ],
             [
              0.8888888888888888,
              "#fdca26"
             ],
             [
              1,
              "#f0f921"
             ]
            ],
            "type": "surface"
           }
          ],
          "table": [
           {
            "cells": {
             "fill": {
              "color": "#EBF0F8"
             },
             "line": {
              "color": "white"
             }
            },
            "header": {
             "fill": {
              "color": "#C8D4E3"
             },
             "line": {
              "color": "white"
             }
            },
            "type": "table"
           }
          ]
         },
         "layout": {
          "annotationdefaults": {
           "arrowcolor": "#2a3f5f",
           "arrowhead": 0,
           "arrowwidth": 1
          },
          "autotypenumbers": "strict",
          "coloraxis": {
           "colorbar": {
            "outlinewidth": 0,
            "ticks": ""
           }
          },
          "colorscale": {
           "diverging": [
            [
             0,
             "#8e0152"
            ],
            [
             0.1,
             "#c51b7d"
            ],
            [
             0.2,
             "#de77ae"
            ],
            [
             0.3,
             "#f1b6da"
            ],
            [
             0.4,
             "#fde0ef"
            ],
            [
             0.5,
             "#f7f7f7"
            ],
            [
             0.6,
             "#e6f5d0"
            ],
            [
             0.7,
             "#b8e186"
            ],
            [
             0.8,
             "#7fbc41"
            ],
            [
             0.9,
             "#4d9221"
            ],
            [
             1,
             "#276419"
            ]
           ],
           "sequential": [
            [
             0,
             "#0d0887"
            ],
            [
             0.1111111111111111,
             "#46039f"
            ],
            [
             0.2222222222222222,
             "#7201a8"
            ],
            [
             0.3333333333333333,
             "#9c179e"
            ],
            [
             0.4444444444444444,
             "#bd3786"
            ],
            [
             0.5555555555555556,
             "#d8576b"
            ],
            [
             0.6666666666666666,
             "#ed7953"
            ],
            [
             0.7777777777777778,
             "#fb9f3a"
            ],
            [
             0.8888888888888888,
             "#fdca26"
            ],
            [
             1,
             "#f0f921"
            ]
           ],
           "sequentialminus": [
            [
             0,
             "#0d0887"
            ],
            [
             0.1111111111111111,
             "#46039f"
            ],
            [
             0.2222222222222222,
             "#7201a8"
            ],
            [
             0.3333333333333333,
             "#9c179e"
            ],
            [
             0.4444444444444444,
             "#bd3786"
            ],
            [
             0.5555555555555556,
             "#d8576b"
            ],
            [
             0.6666666666666666,
             "#ed7953"
            ],
            [
             0.7777777777777778,
             "#fb9f3a"
            ],
            [
             0.8888888888888888,
             "#fdca26"
            ],
            [
             1,
             "#f0f921"
            ]
           ]
          },
          "colorway": [
           "#636efa",
           "#EF553B",
           "#00cc96",
           "#ab63fa",
           "#FFA15A",
           "#19d3f3",
           "#FF6692",
           "#B6E880",
           "#FF97FF",
           "#FECB52"
          ],
          "font": {
           "color": "#2a3f5f"
          },
          "geo": {
           "bgcolor": "white",
           "lakecolor": "white",
           "landcolor": "#E5ECF6",
           "showlakes": true,
           "showland": true,
           "subunitcolor": "white"
          },
          "hoverlabel": {
           "align": "left"
          },
          "hovermode": "closest",
          "mapbox": {
           "style": "light"
          },
          "paper_bgcolor": "white",
          "plot_bgcolor": "#E5ECF6",
          "polar": {
           "angularaxis": {
            "gridcolor": "white",
            "linecolor": "white",
            "ticks": ""
           },
           "bgcolor": "#E5ECF6",
           "radialaxis": {
            "gridcolor": "white",
            "linecolor": "white",
            "ticks": ""
           }
          },
          "scene": {
           "xaxis": {
            "backgroundcolor": "#E5ECF6",
            "gridcolor": "white",
            "gridwidth": 2,
            "linecolor": "white",
            "showbackground": true,
            "ticks": "",
            "zerolinecolor": "white"
           },
           "yaxis": {
            "backgroundcolor": "#E5ECF6",
            "gridcolor": "white",
            "gridwidth": 2,
            "linecolor": "white",
            "showbackground": true,
            "ticks": "",
            "zerolinecolor": "white"
           },
           "zaxis": {
            "backgroundcolor": "#E5ECF6",
            "gridcolor": "white",
            "gridwidth": 2,
            "linecolor": "white",
            "showbackground": true,
            "ticks": "",
            "zerolinecolor": "white"
           }
          },
          "shapedefaults": {
           "line": {
            "color": "#2a3f5f"
           }
          },
          "ternary": {
           "aaxis": {
            "gridcolor": "white",
            "linecolor": "white",
            "ticks": ""
           },
           "baxis": {
            "gridcolor": "white",
            "linecolor": "white",
            "ticks": ""
           },
           "bgcolor": "#E5ECF6",
           "caxis": {
            "gridcolor": "white",
            "linecolor": "white",
            "ticks": ""
           }
          },
          "title": {
           "x": 0.05
          },
          "xaxis": {
           "automargin": true,
           "gridcolor": "white",
           "linecolor": "white",
           "ticks": "",
           "title": {
            "standoff": 15
           },
           "zerolinecolor": "white",
           "zerolinewidth": 2
          },
          "yaxis": {
           "automargin": true,
           "gridcolor": "white",
           "linecolor": "white",
           "ticks": "",
           "title": {
            "standoff": 15
           },
           "zerolinecolor": "white",
           "zerolinewidth": 2
          }
         }
        },
        "xaxis": {
         "anchor": "y",
         "domain": [
          0,
          1
         ],
         "title": {
          "text": "Attendence"
         }
        },
        "yaxis": {
         "anchor": "x",
         "domain": [
          0,
          1
         ],
         "title": {
          "text": "Name"
         }
        }
       }
      }
     },
     "metadata": {},
     "output_type": "display_data"
    }
   ],
   "source": [
    "all_members_attendence = df.groupby(['Name'])['Date'].count().reset_index()\n",
    "all_members_attendence = all_members_attendence.sort_values(by=['Date'], ascending=False)\n",
    "all_members_attendence = all_members_attendence[['Date','Name']].reset_index(drop=True)\n",
    "all_members_attendence = all_members_attendence.rename(columns={'Date': 'Attendence'})\n",
    "all_members_attendence['Attendence'] = all_members_attendence['Attendence']/308*100\n",
    "all_members_attendence['Attendence'] = all_members_attendence['Attendence'].round(decimals = 1)\n",
    "all_members_attendence\n",
    "px.bar(all_members_attendence, y='Name', x='Attendence',height=8000)"
   ]
  }
 ],
 "metadata": {
  "kernelspec": {
   "display_name": "Python 3",
   "language": "python",
   "name": "python3"
  },
  "language_info": {
   "codemirror_mode": {
    "name": "ipython",
    "version": 3
   },
   "file_extension": ".py",
   "mimetype": "text/x-python",
   "name": "python",
   "nbconvert_exporter": "python",
   "pygments_lexer": "ipython3",
   "version": "3.13.1"
  }
 },
 "nbformat": 4,
 "nbformat_minor": 2
}
